{
 "cells": [
  {
   "cell_type": "code",
   "execution_count": 1,
   "metadata": {},
   "outputs": [],
   "source": [
    "import os\n",
    "import csv\n",
    "import matplotlib.pyplot as plt\n",
    "from tqdm import tqdm\n",
    "import torch\n",
    "import torch.nn as nn\n",
    "import torch.optim \n",
    "from torchvision import transforms, datasets\n",
    "from torch.optim.lr_scheduler import ReduceLROnPlateau\n",
    "from torch.utils.data import DataLoader, random_split\n",
    "from tqdm import tqdm\n",
    "from datetime import datetime\n",
    "import torchvision.models as models\n"
   ]
  },
  {
   "cell_type": "code",
   "execution_count": 2,
   "metadata": {},
   "outputs": [],
   "source": [
    "# 画像のサイズ\n",
    "IMG_SIZE = 240\n",
    "\n",
    "# データのディレクトリのパス\n",
    "FLOWER_DIR = '../input/flowers'\n",
    "\n",
    "batch_size = 32\n",
    "\n",
    "model_name = \"EfficientNetb1\""
   ]
  },
  {
   "cell_type": "code",
   "execution_count": 3,
   "metadata": {},
   "outputs": [
    {
     "name": "stdout",
     "output_type": "stream",
     "text": [
      "Using device: cuda\n"
     ]
    }
   ],
   "source": [
    "# GPUが利用可能かどうかを確認し、利用可能ならGPUを使用\n",
    "device = torch.device('cuda' if torch.cuda.is_available() else 'cpu')\n",
    "print(f'Using device: {device}')\n"
   ]
  },
  {
   "cell_type": "markdown",
   "metadata": {},
   "source": [
    "# データセットの作成"
   ]
  },
  {
   "cell_type": "code",
   "execution_count": 4,
   "metadata": {},
   "outputs": [],
   "source": [
    "transforms = transforms.Compose([\n",
    "    transforms.Resize((IMG_SIZE, IMG_SIZE)), # 画像サイズをリサイズ,\n",
    "    transforms.RandomHorizontalFlip(),\n",
    "    transforms.RandomRotation(10),\n",
    "    transforms.ToTensor(),\n",
    "    transforms.Normalize(mean=[0.485, 0.456, 0.406], std=[0.229, 0.224, 0.225])\n",
    "])\n",
    "\n",
    "# データセットを作成\n",
    "dataset = datasets.ImageFolder(FLOWER_DIR, transform=transforms)\n"
   ]
  },
  {
   "cell_type": "code",
   "execution_count": 5,
   "metadata": {},
   "outputs": [],
   "source": [
    "# 学習データに使用する割合\n",
    "n_train_ratio = 0.8\n",
    "\n",
    "# 割合から個数を出す\n",
    "n_train = int(len(dataset) * n_train_ratio)\n",
    "n_val   = int(len(dataset) - n_train)\n"
   ]
  },
  {
   "cell_type": "code",
   "execution_count": 6,
   "metadata": {},
   "outputs": [],
   "source": [
    "# 学習データと検証データに分割\n",
    "train, val = random_split(dataset, [n_train, n_val])\n"
   ]
  },
  {
   "cell_type": "code",
   "execution_count": 7,
   "metadata": {},
   "outputs": [],
   "source": [
    "# Data Loader\n",
    "train_loader = DataLoader(train, batch_size, shuffle=True, drop_last=True, num_workers=2)\n",
    "val_loader = DataLoader(val, batch_size, num_workers=2)\n"
   ]
  },
  {
   "cell_type": "code",
   "execution_count": 8,
   "metadata": {},
   "outputs": [],
   "source": [
    "\n",
    "class CustomEfficientNet(nn.Module):\n",
    "    def __init__(self, num_classes):\n",
    "        super(CustomEfficientNet, self).__init__()\n",
    "        self.efficientnet = models.efficientnet_b1(weights=\"IMAGENET1K_V1\") \n",
    "        in_features = self.efficientnet.classifier[1].in_features\n",
    "        self.efficientnet.classifier[1] = nn.Linear(in_features, num_classes)  # 新しい最終層を追加\n",
    "\n",
    "    def forward(self, x):\n",
    "        return self.efficientnet(x)\n"
   ]
  },
  {
   "cell_type": "code",
   "execution_count": 9,
   "metadata": {},
   "outputs": [],
   "source": [
    "# 2. モデルの構築\n",
    "model = CustomEfficientNet(num_classes=5).to(device)\n"
   ]
  },
  {
   "cell_type": "code",
   "execution_count": 10,
   "metadata": {},
   "outputs": [],
   "source": [
    "# 3. 訓練と検証\n",
    "criterion = nn.CrossEntropyLoss()\n",
    "optimizer = torch.optim.Adam(model.parameters(), lr=0.001)\n",
    "scheduler = ReduceLROnPlateau(optimizer, 'min', patience=5)\n",
    "\n"
   ]
  },
  {
   "cell_type": "code",
   "execution_count": 11,
   "metadata": {},
   "outputs": [],
   "source": [
    "def train_and_evaluate_model(model, train_loader, val_loader, criterion, optimizer, num_epochs=50):\n",
    "    train_losses, val_losses = [], []\n",
    "    train_accuracies, val_accuracies = [], []\n",
    "\n",
    "    for epoch in range(num_epochs):\n",
    "        # 訓練フェーズ\n",
    "        model.train()\n",
    "        train_loss, train_correct = 0, 0\n",
    "        for inputs, labels in tqdm(train_loader, desc=f'Epoch {epoch+1}/{num_epochs}, Training...'):\n",
    "            inputs, labels = inputs.to(device), labels.to(device)\n",
    "            optimizer.zero_grad(set_to_none=True)\n",
    "            outputs = model(inputs)\n",
    "            loss = criterion(outputs, labels)\n",
    "            loss.backward()\n",
    "            optimizer.step()\n",
    "\n",
    "            train_loss += loss.item()\n",
    "            _, predicted = torch.max(outputs, 1)\n",
    "            train_correct += (predicted == labels).sum().item()\n",
    "\n",
    "        # 検証フェーズ\n",
    "        model.eval()\n",
    "        val_loss, val_correct = 0, 0\n",
    "        with torch.no_grad():\n",
    "            for inputs, labels in tqdm(val_loader, desc=f'Epoch {epoch+1}/{num_epochs}, Validation...'):\n",
    "                inputs, labels = inputs.to(device), labels.to(device)\n",
    "                outputs = model(inputs)\n",
    "                loss = criterion(outputs, labels)\n",
    "                val_loss += loss.item()\n",
    "                _, predicted = torch.max(outputs, 1)\n",
    "                val_correct += (predicted == labels).sum().item()\n",
    "\n",
    "        # 損失と精度の計算\n",
    "        train_losses.append(train_loss / len(train_loader))\n",
    "        val_losses.append(val_loss / len(val_loader))\n",
    "        train_accuracies.append(train_correct / len(train_loader.dataset))\n",
    "        val_accuracies.append(val_correct / len(val_loader.dataset))\n",
    "\n",
    "        print(f'Epoch {epoch+1}/{num_epochs}, Train Loss: {train_losses[-1]}, Val Loss: {val_losses[-1]}, Train Acc: {train_accuracies[-1]}, Val Acc: {val_accuracies[-1]}')\n",
    "\n",
    "    return train_losses, val_losses, train_accuracies, val_accuracies\n"
   ]
  },
  {
   "cell_type": "code",
   "execution_count": 12,
   "metadata": {},
   "outputs": [
    {
     "name": "stderr",
     "output_type": "stream",
     "text": [
      "Epoch 1/50, Training...: 100%|██████████| 107/107 [00:22<00:00,  4.85it/s]\n",
      "Epoch 1/50, Validation...: 100%|██████████| 27/27 [00:01<00:00, 16.39it/s]\n"
     ]
    },
    {
     "name": "stdout",
     "output_type": "stream",
     "text": [
      "Epoch 1/50, Train Loss: 0.4390501031808764, Val Loss: 0.2864987118928521, Train Acc: 0.8456414711844773, Val Acc: 0.9108796296296297\n"
     ]
    },
    {
     "name": "stderr",
     "output_type": "stream",
     "text": [
      "Epoch 2/50, Training...: 100%|██████████| 107/107 [00:21<00:00,  4.93it/s]\n",
      "Epoch 2/50, Validation...: 100%|██████████| 27/27 [00:01<00:00, 16.33it/s]\n"
     ]
    },
    {
     "name": "stdout",
     "output_type": "stream",
     "text": [
      "Epoch 2/50, Train Loss: 0.2561214886536108, Val Loss: 0.25105928422676194, Train Acc: 0.9122502172024327, Val Acc: 0.9340277777777778\n"
     ]
    },
    {
     "name": "stderr",
     "output_type": "stream",
     "text": [
      "Epoch 3/50, Training...: 100%|██████████| 107/107 [00:21<00:00,  4.91it/s]\n",
      "Epoch 3/50, Validation...: 100%|██████████| 27/27 [00:01<00:00, 16.49it/s]\n"
     ]
    },
    {
     "name": "stdout",
     "output_type": "stream",
     "text": [
      "Epoch 3/50, Train Loss: 0.19076280678822616, Val Loss: 0.28914197782675427, Train Acc: 0.928467998841587, Val Acc: 0.9189814814814815\n"
     ]
    },
    {
     "name": "stderr",
     "output_type": "stream",
     "text": [
      "Epoch 4/50, Training...: 100%|██████████| 107/107 [00:21<00:00,  4.89it/s]\n",
      "Epoch 4/50, Validation...: 100%|██████████| 27/27 [00:01<00:00, 16.25it/s]\n"
     ]
    },
    {
     "name": "stdout",
     "output_type": "stream",
     "text": [
      "Epoch 4/50, Train Loss: 0.1323004231448764, Val Loss: 0.24119766373877172, Train Acc: 0.94874022589053, Val Acc: 0.9282407407407407\n"
     ]
    },
    {
     "name": "stderr",
     "output_type": "stream",
     "text": [
      "Epoch 5/50, Training...: 100%|██████████| 107/107 [00:21<00:00,  4.90it/s]\n",
      "Epoch 5/50, Validation...: 100%|██████████| 27/27 [00:01<00:00, 16.44it/s]\n"
     ]
    },
    {
     "name": "stdout",
     "output_type": "stream",
     "text": [
      "Epoch 5/50, Train Loss: 0.1308083267377637, Val Loss: 0.20106591091111856, Train Acc: 0.9481610194034173, Val Acc: 0.9317129629629629\n"
     ]
    },
    {
     "name": "stderr",
     "output_type": "stream",
     "text": [
      "Epoch 6/50, Training...: 100%|██████████| 107/107 [00:21<00:00,  4.90it/s]\n",
      "Epoch 6/50, Validation...: 100%|██████████| 27/27 [00:01<00:00, 16.46it/s]\n"
     ]
    },
    {
     "name": "stdout",
     "output_type": "stream",
     "text": [
      "Epoch 6/50, Train Loss: 0.09862482688763988, Val Loss: 0.20390666931160484, Train Acc: 0.9606139588763394, Val Acc: 0.9363425925925926\n"
     ]
    },
    {
     "name": "stderr",
     "output_type": "stream",
     "text": [
      "Epoch 7/50, Training...: 100%|██████████| 107/107 [00:21<00:00,  4.90it/s]\n",
      "Epoch 7/50, Validation...: 100%|██████████| 27/27 [00:01<00:00, 16.21it/s]\n"
     ]
    },
    {
     "name": "stdout",
     "output_type": "stream",
     "text": [
      "Epoch 7/50, Train Loss: 0.09455967955095432, Val Loss: 0.2280295231655516, Train Acc: 0.9588763394150015, Val Acc: 0.9317129629629629\n"
     ]
    },
    {
     "name": "stderr",
     "output_type": "stream",
     "text": [
      "Epoch 8/50, Training...: 100%|██████████| 107/107 [00:21<00:00,  4.91it/s]\n",
      "Epoch 8/50, Validation...: 100%|██████████| 27/27 [00:01<00:00, 16.62it/s]\n"
     ]
    },
    {
     "name": "stdout",
     "output_type": "stream",
     "text": [
      "Epoch 8/50, Train Loss: 0.09254522518272225, Val Loss: 0.24846220940041044, Train Acc: 0.9582971329278888, Val Acc: 0.9340277777777778\n"
     ]
    },
    {
     "name": "stderr",
     "output_type": "stream",
     "text": [
      "Epoch 9/50, Training...: 100%|██████████| 107/107 [00:21<00:00,  4.90it/s]\n",
      "Epoch 9/50, Validation...: 100%|██████████| 27/27 [00:01<00:00, 16.30it/s]\n"
     ]
    },
    {
     "name": "stdout",
     "output_type": "stream",
     "text": [
      "Epoch 9/50, Train Loss: 0.08225048263774853, Val Loss: 0.22940549395840476, Train Acc: 0.96293078482479, Val Acc: 0.9398148148148148\n"
     ]
    },
    {
     "name": "stderr",
     "output_type": "stream",
     "text": [
      "Epoch 10/50, Training...: 100%|██████████| 107/107 [00:21<00:00,  4.90it/s]\n",
      "Epoch 10/50, Validation...: 100%|██████████| 27/27 [00:01<00:00, 16.49it/s]\n"
     ]
    },
    {
     "name": "stdout",
     "output_type": "stream",
     "text": [
      "Epoch 10/50, Train Loss: 0.06356892724756465, Val Loss: 0.29468347171873405, Train Acc: 0.9698812626701419, Val Acc: 0.9317129629629629\n"
     ]
    },
    {
     "name": "stderr",
     "output_type": "stream",
     "text": [
      "Epoch 11/50, Training...: 100%|██████████| 107/107 [00:21<00:00,  4.92it/s]\n",
      "Epoch 11/50, Validation...: 100%|██████████| 27/27 [00:01<00:00, 16.00it/s]\n"
     ]
    },
    {
     "name": "stdout",
     "output_type": "stream",
     "text": [
      "Epoch 11/50, Train Loss: 0.09990052338776605, Val Loss: 0.2070211094148733, Train Acc: 0.9574283231972198, Val Acc: 0.9421296296296297\n"
     ]
    },
    {
     "name": "stderr",
     "output_type": "stream",
     "text": [
      "Epoch 12/50, Training...: 100%|██████████| 107/107 [00:21<00:00,  4.92it/s]\n",
      "Epoch 12/50, Validation...: 100%|██████████| 27/27 [00:01<00:00, 17.13it/s]\n"
     ]
    },
    {
     "name": "stdout",
     "output_type": "stream",
     "text": [
      "Epoch 12/50, Train Loss: 0.0673276031972997, Val Loss: 0.2382447093863178, Train Acc: 0.9710396756443672, Val Acc: 0.9432870370370371\n"
     ]
    },
    {
     "name": "stderr",
     "output_type": "stream",
     "text": [
      "Epoch 13/50, Training...: 100%|██████████| 107/107 [00:21<00:00,  4.91it/s]\n",
      "Epoch 13/50, Validation...: 100%|██████████| 27/27 [00:01<00:00, 15.51it/s]\n"
     ]
    },
    {
     "name": "stdout",
     "output_type": "stream",
     "text": [
      "Epoch 13/50, Train Loss: 0.06404029843223359, Val Loss: 0.27356602361908666, Train Acc: 0.9707500724008109, Val Acc: 0.9363425925925926\n"
     ]
    },
    {
     "name": "stderr",
     "output_type": "stream",
     "text": [
      "Epoch 14/50, Training...: 100%|██████████| 107/107 [00:21<00:00,  4.89it/s]\n",
      "Epoch 14/50, Validation...: 100%|██████████| 27/27 [00:01<00:00, 16.22it/s]\n"
     ]
    },
    {
     "name": "stdout",
     "output_type": "stream",
     "text": [
      "Epoch 14/50, Train Loss: 0.06987902738815435, Val Loss: 0.29579784418456256, Train Acc: 0.9701708659136983, Val Acc: 0.9305555555555556\n"
     ]
    },
    {
     "name": "stderr",
     "output_type": "stream",
     "text": [
      "Epoch 15/50, Training...: 100%|██████████| 107/107 [00:21<00:00,  4.87it/s]\n",
      "Epoch 15/50, Validation...: 100%|██████████| 27/27 [00:01<00:00, 16.36it/s]\n"
     ]
    },
    {
     "name": "stdout",
     "output_type": "stream",
     "text": [
      "Epoch 15/50, Train Loss: 0.06699936980083497, Val Loss: 0.27165103883103087, Train Acc: 0.9698812626701419, Val Acc: 0.9398148148148148\n"
     ]
    },
    {
     "name": "stderr",
     "output_type": "stream",
     "text": [
      "Epoch 16/50, Training...: 100%|██████████| 107/107 [00:21<00:00,  4.86it/s]\n",
      "Epoch 16/50, Validation...: 100%|██████████| 27/27 [00:01<00:00, 17.12it/s]\n"
     ]
    },
    {
     "name": "stdout",
     "output_type": "stream",
     "text": [
      "Epoch 16/50, Train Loss: 0.06580163877801186, Val Loss: 0.23220959954239703, Train Acc: 0.9701708659136983, Val Acc: 0.9305555555555556\n"
     ]
    },
    {
     "name": "stderr",
     "output_type": "stream",
     "text": [
      "Epoch 17/50, Training...: 100%|██████████| 107/107 [00:21<00:00,  4.89it/s]\n",
      "Epoch 17/50, Validation...: 100%|██████████| 27/27 [00:01<00:00, 16.47it/s]\n"
     ]
    },
    {
     "name": "stdout",
     "output_type": "stream",
     "text": [
      "Epoch 17/50, Train Loss: 0.05507208431949056, Val Loss: 0.25300136438562293, Train Acc: 0.9733565015928178, Val Acc: 0.9270833333333334\n"
     ]
    },
    {
     "name": "stderr",
     "output_type": "stream",
     "text": [
      "Epoch 18/50, Training...: 100%|██████████| 107/107 [00:21<00:00,  4.89it/s]\n",
      "Epoch 18/50, Validation...: 100%|██████████| 27/27 [00:01<00:00, 16.71it/s]\n"
     ]
    },
    {
     "name": "stdout",
     "output_type": "stream",
     "text": [
      "Epoch 18/50, Train Loss: 0.03695249980235055, Val Loss: 0.2546878895653343, Train Acc: 0.9788589632203881, Val Acc: 0.9409722222222222\n"
     ]
    },
    {
     "name": "stderr",
     "output_type": "stream",
     "text": [
      "Epoch 19/50, Training...: 100%|██████████| 107/107 [00:21<00:00,  4.89it/s]\n",
      "Epoch 19/50, Validation...: 100%|██████████| 27/27 [00:01<00:00, 16.54it/s]\n"
     ]
    },
    {
     "name": "stdout",
     "output_type": "stream",
     "text": [
      "Epoch 19/50, Train Loss: 0.049367003368320395, Val Loss: 0.41926306541319247, Train Acc: 0.9733565015928178, Val Acc: 0.9108796296296297\n"
     ]
    },
    {
     "name": "stderr",
     "output_type": "stream",
     "text": [
      "Epoch 20/50, Training...: 100%|██████████| 107/107 [00:21<00:00,  4.89it/s]\n",
      "Epoch 20/50, Validation...: 100%|██████████| 27/27 [00:01<00:00, 16.33it/s]\n"
     ]
    },
    {
     "name": "stdout",
     "output_type": "stream",
     "text": [
      "Epoch 20/50, Train Loss: 0.08440656655481103, Val Loss: 0.29625883726058183, Train Acc: 0.9669852302345786, Val Acc: 0.9351851851851852\n"
     ]
    },
    {
     "name": "stderr",
     "output_type": "stream",
     "text": [
      "Epoch 21/50, Training...: 100%|██████████| 107/107 [00:21<00:00,  4.89it/s]\n",
      "Epoch 21/50, Validation...: 100%|██████████| 27/27 [00:01<00:00, 15.99it/s]\n"
     ]
    },
    {
     "name": "stdout",
     "output_type": "stream",
     "text": [
      "Epoch 21/50, Train Loss: 0.043619344681425226, Val Loss: 0.27060124691989684, Train Acc: 0.9777005502461628, Val Acc: 0.9375\n"
     ]
    },
    {
     "name": "stderr",
     "output_type": "stream",
     "text": [
      "Epoch 22/50, Training...: 100%|██████████| 107/107 [00:21<00:00,  4.87it/s]\n",
      "Epoch 22/50, Validation...: 100%|██████████| 27/27 [00:01<00:00, 14.55it/s]\n"
     ]
    },
    {
     "name": "stdout",
     "output_type": "stream",
     "text": [
      "Epoch 22/50, Train Loss: 0.03621418720217874, Val Loss: 0.25494520818918115, Train Acc: 0.9797277729510571, Val Acc: 0.9409722222222222\n"
     ]
    },
    {
     "name": "stderr",
     "output_type": "stream",
     "text": [
      "Epoch 23/50, Training...: 100%|██████████| 107/107 [00:21<00:00,  4.88it/s]\n",
      "Epoch 23/50, Validation...: 100%|██████████| 27/27 [00:01<00:00, 14.46it/s]\n"
     ]
    },
    {
     "name": "stdout",
     "output_type": "stream",
     "text": [
      "Epoch 23/50, Train Loss: 0.036143253693655224, Val Loss: 0.23874015428763987, Train Acc: 0.980596582681726, Val Acc: 0.9479166666666666\n"
     ]
    },
    {
     "name": "stderr",
     "output_type": "stream",
     "text": [
      "Epoch 24/50, Training...: 100%|██████████| 107/107 [00:21<00:00,  4.88it/s]\n",
      "Epoch 24/50, Validation...: 100%|██████████| 27/27 [00:01<00:00, 14.72it/s]\n"
     ]
    },
    {
     "name": "stdout",
     "output_type": "stream",
     "text": [
      "Epoch 24/50, Train Loss: 0.0159911327975912, Val Loss: 0.30538756831514613, Train Acc: 0.9863886475528526, Val Acc: 0.9375\n"
     ]
    },
    {
     "name": "stderr",
     "output_type": "stream",
     "text": [
      "Epoch 25/50, Training...: 100%|██████████| 107/107 [00:21<00:00,  4.88it/s]\n",
      "Epoch 25/50, Validation...: 100%|██████████| 27/27 [00:01<00:00, 14.81it/s]\n"
     ]
    },
    {
     "name": "stdout",
     "output_type": "stream",
     "text": [
      "Epoch 25/50, Train Loss: 0.03596221589198811, Val Loss: 0.2776220966027015, Train Acc: 0.9785693599768317, Val Acc: 0.9398148148148148\n"
     ]
    },
    {
     "name": "stderr",
     "output_type": "stream",
     "text": [
      "Epoch 26/50, Training...: 100%|██████████| 107/107 [00:21<00:00,  4.89it/s]\n",
      "Epoch 26/50, Validation...: 100%|██████████| 27/27 [00:01<00:00, 14.98it/s]\n"
     ]
    },
    {
     "name": "stdout",
     "output_type": "stream",
     "text": [
      "Epoch 26/50, Train Loss: 0.05986237400711871, Val Loss: 0.3807734551805037, Train Acc: 0.9695916594265855, Val Acc: 0.9259259259259259\n"
     ]
    },
    {
     "name": "stderr",
     "output_type": "stream",
     "text": [
      "Epoch 27/50, Training...: 100%|██████████| 107/107 [00:21<00:00,  4.89it/s]\n",
      "Epoch 27/50, Validation...: 100%|██████████| 27/27 [00:01<00:00, 14.70it/s]\n"
     ]
    },
    {
     "name": "stdout",
     "output_type": "stream",
     "text": [
      "Epoch 27/50, Train Loss: 0.03910197049301013, Val Loss: 0.39029013734586815, Train Acc: 0.9785693599768317, Val Acc: 0.9212962962962963\n"
     ]
    },
    {
     "name": "stderr",
     "output_type": "stream",
     "text": [
      "Epoch 28/50, Training...: 100%|██████████| 107/107 [00:21<00:00,  4.89it/s]\n",
      "Epoch 28/50, Validation...: 100%|██████████| 27/27 [00:01<00:00, 14.55it/s]\n"
     ]
    },
    {
     "name": "stdout",
     "output_type": "stream",
     "text": [
      "Epoch 28/50, Train Loss: 0.044225962348412896, Val Loss: 0.4384032185793061, Train Acc: 0.9745149145670432, Val Acc: 0.9305555555555556\n"
     ]
    },
    {
     "name": "stderr",
     "output_type": "stream",
     "text": [
      "Epoch 29/50, Training...: 100%|██████████| 107/107 [00:21<00:00,  4.87it/s]\n",
      "Epoch 29/50, Validation...: 100%|██████████| 27/27 [00:01<00:00, 14.22it/s]\n"
     ]
    },
    {
     "name": "stdout",
     "output_type": "stream",
     "text": [
      "Epoch 29/50, Train Loss: 0.043983852923260215, Val Loss: 0.3530653254711069, Train Acc: 0.9765421372719374, Val Acc: 0.9247685185185185\n"
     ]
    },
    {
     "name": "stderr",
     "output_type": "stream",
     "text": [
      "Epoch 30/50, Training...: 100%|██████████| 107/107 [00:21<00:00,  4.88it/s]\n",
      "Epoch 30/50, Validation...: 100%|██████████| 27/27 [00:01<00:00, 14.57it/s]\n"
     ]
    },
    {
     "name": "stdout",
     "output_type": "stream",
     "text": [
      "Epoch 30/50, Train Loss: 0.05117641114705965, Val Loss: 0.3142993437057292, Train Acc: 0.9765421372719374, Val Acc: 0.9282407407407407\n"
     ]
    },
    {
     "name": "stderr",
     "output_type": "stream",
     "text": [
      "Epoch 31/50, Training...: 100%|██████████| 107/107 [00:21<00:00,  4.89it/s]\n",
      "Epoch 31/50, Validation...: 100%|██████████| 27/27 [00:01<00:00, 14.43it/s]\n"
     ]
    },
    {
     "name": "stdout",
     "output_type": "stream",
     "text": [
      "Epoch 31/50, Train Loss: 0.041842792668133955, Val Loss: 0.28188252280017845, Train Acc: 0.9794381697075007, Val Acc: 0.9305555555555556\n"
     ]
    },
    {
     "name": "stderr",
     "output_type": "stream",
     "text": [
      "Epoch 32/50, Training...: 100%|██████████| 107/107 [00:21<00:00,  4.88it/s]\n",
      "Epoch 32/50, Validation...: 100%|██████████| 27/27 [00:01<00:00, 14.02it/s]\n"
     ]
    },
    {
     "name": "stdout",
     "output_type": "stream",
     "text": [
      "Epoch 32/50, Train Loss: 0.028001451473160882, Val Loss: 0.2694777634029311, Train Acc: 0.9834926151172894, Val Acc: 0.9421296296296297\n"
     ]
    },
    {
     "name": "stderr",
     "output_type": "stream",
     "text": [
      "Epoch 33/50, Training...: 100%|██████████| 107/107 [00:21<00:00,  4.88it/s]\n",
      "Epoch 33/50, Validation...: 100%|██████████| 27/27 [00:01<00:00, 14.36it/s]\n"
     ]
    },
    {
     "name": "stdout",
     "output_type": "stream",
     "text": [
      "Epoch 33/50, Train Loss: 0.02904255120529767, Val Loss: 0.3707463665072013, Train Acc: 0.9832030118737329, Val Acc: 0.9363425925925926\n"
     ]
    },
    {
     "name": "stderr",
     "output_type": "stream",
     "text": [
      "Epoch 34/50, Training...: 100%|██████████| 107/107 [00:21<00:00,  4.88it/s]\n",
      "Epoch 34/50, Validation...: 100%|██████████| 27/27 [00:01<00:00, 14.65it/s]\n"
     ]
    },
    {
     "name": "stdout",
     "output_type": "stream",
     "text": [
      "Epoch 34/50, Train Loss: 0.042443097812758984, Val Loss: 0.3361039938969986, Train Acc: 0.9791485664639444, Val Acc: 0.9201388888888888\n"
     ]
    },
    {
     "name": "stderr",
     "output_type": "stream",
     "text": [
      "Epoch 35/50, Training...: 100%|██████████| 107/107 [00:21<00:00,  4.88it/s]\n",
      "Epoch 35/50, Validation...: 100%|██████████| 27/27 [00:01<00:00, 14.64it/s]\n"
     ]
    },
    {
     "name": "stdout",
     "output_type": "stream",
     "text": [
      "Epoch 35/50, Train Loss: 0.03763210689876104, Val Loss: 0.3880467455903137, Train Acc: 0.9788589632203881, Val Acc: 0.9340277777777778\n"
     ]
    },
    {
     "name": "stderr",
     "output_type": "stream",
     "text": [
      "Epoch 36/50, Training...: 100%|██████████| 107/107 [00:21<00:00,  4.89it/s]\n",
      "Epoch 36/50, Validation...: 100%|██████████| 27/27 [00:01<00:00, 14.47it/s]\n"
     ]
    },
    {
     "name": "stdout",
     "output_type": "stream",
     "text": [
      "Epoch 36/50, Train Loss: 0.0464505762578245, Val Loss: 0.3559194343785445, Train Acc: 0.9771213437590501, Val Acc: 0.9212962962962963\n"
     ]
    },
    {
     "name": "stderr",
     "output_type": "stream",
     "text": [
      "Epoch 37/50, Training...: 100%|██████████| 107/107 [00:21<00:00,  4.88it/s]\n",
      "Epoch 37/50, Validation...: 100%|██████████| 27/27 [00:01<00:00, 14.82it/s]\n"
     ]
    },
    {
     "name": "stdout",
     "output_type": "stream",
     "text": [
      "Epoch 37/50, Train Loss: 0.03484594604875196, Val Loss: 0.48153167283857734, Train Acc: 0.9771213437590501, Val Acc: 0.9131944444444444\n"
     ]
    },
    {
     "name": "stderr",
     "output_type": "stream",
     "text": [
      "Epoch 38/50, Training...: 100%|██████████| 107/107 [00:21<00:00,  4.88it/s]\n",
      "Epoch 38/50, Validation...: 100%|██████████| 27/27 [00:01<00:00, 14.94it/s]\n"
     ]
    },
    {
     "name": "stdout",
     "output_type": "stream",
     "text": [
      "Epoch 38/50, Train Loss: 0.04013926985594183, Val Loss: 0.37607886700856463, Train Acc: 0.9768317405154938, Val Acc: 0.9363425925925926\n"
     ]
    },
    {
     "name": "stderr",
     "output_type": "stream",
     "text": [
      "Epoch 39/50, Training...: 100%|██████████| 107/107 [00:21<00:00,  4.88it/s]\n",
      "Epoch 39/50, Validation...: 100%|██████████| 27/27 [00:01<00:00, 14.43it/s]\n"
     ]
    },
    {
     "name": "stdout",
     "output_type": "stream",
     "text": [
      "Epoch 39/50, Train Loss: 0.04323493227989317, Val Loss: 0.3886019555610363, Train Acc: 0.9762525340283811, Val Acc: 0.9293981481481481\n"
     ]
    },
    {
     "name": "stderr",
     "output_type": "stream",
     "text": [
      "Epoch 40/50, Training...: 100%|██████████| 107/107 [00:21<00:00,  4.89it/s]\n",
      "Epoch 40/50, Validation...: 100%|██████████| 27/27 [00:01<00:00, 14.52it/s]\n"
     ]
    },
    {
     "name": "stdout",
     "output_type": "stream",
     "text": [
      "Epoch 40/50, Train Loss: 0.05366773580344585, Val Loss: 0.2842164672372207, Train Acc: 0.9750941210541558, Val Acc: 0.9386574074074074\n"
     ]
    },
    {
     "name": "stderr",
     "output_type": "stream",
     "text": [
      "Epoch 41/50, Training...: 100%|██████████| 107/107 [00:21<00:00,  4.89it/s]\n",
      "Epoch 41/50, Validation...: 100%|██████████| 27/27 [00:01<00:00, 15.03it/s]\n"
     ]
    },
    {
     "name": "stdout",
     "output_type": "stream",
     "text": [
      "Epoch 41/50, Train Loss: 0.02987969547012934, Val Loss: 0.2655139704562586, Train Acc: 0.9811757891688387, Val Acc: 0.9421296296296297\n"
     ]
    },
    {
     "name": "stderr",
     "output_type": "stream",
     "text": [
      "Epoch 42/50, Training...: 100%|██████████| 107/107 [00:21<00:00,  4.89it/s]\n",
      "Epoch 42/50, Validation...: 100%|██████████| 27/27 [00:01<00:00, 14.55it/s]\n"
     ]
    },
    {
     "name": "stdout",
     "output_type": "stream",
     "text": [
      "Epoch 42/50, Train Loss: 0.03170159092667609, Val Loss: 0.44883026366329026, Train Acc: 0.9820445988995077, Val Acc: 0.9178240740740741\n"
     ]
    },
    {
     "name": "stderr",
     "output_type": "stream",
     "text": [
      "Epoch 43/50, Training...: 100%|██████████| 107/107 [00:21<00:00,  4.88it/s]\n",
      "Epoch 43/50, Validation...: 100%|██████████| 27/27 [00:01<00:00, 14.58it/s]\n"
     ]
    },
    {
     "name": "stdout",
     "output_type": "stream",
     "text": [
      "Epoch 43/50, Train Loss: 0.055206960310455556, Val Loss: 0.3791139955735869, Train Acc: 0.9756733275412685, Val Acc: 0.9189814814814815\n"
     ]
    },
    {
     "name": "stderr",
     "output_type": "stream",
     "text": [
      "Epoch 44/50, Training...: 100%|██████████| 107/107 [00:21<00:00,  4.89it/s]\n",
      "Epoch 44/50, Validation...: 100%|██████████| 27/27 [00:01<00:00, 15.00it/s]\n"
     ]
    },
    {
     "name": "stdout",
     "output_type": "stream",
     "text": [
      "Epoch 44/50, Train Loss: 0.03771797071018465, Val Loss: 0.3501688830287161, Train Acc: 0.9791485664639444, Val Acc: 0.9317129629629629\n"
     ]
    },
    {
     "name": "stderr",
     "output_type": "stream",
     "text": [
      "Epoch 45/50, Training...: 100%|██████████| 107/107 [00:21<00:00,  4.89it/s]\n",
      "Epoch 45/50, Validation...: 100%|██████████| 27/27 [00:01<00:00, 14.71it/s]\n"
     ]
    },
    {
     "name": "stdout",
     "output_type": "stream",
     "text": [
      "Epoch 45/50, Train Loss: 0.017929698844369835, Val Loss: 0.2876145855320997, Train Acc: 0.9860990443092963, Val Acc: 0.9502314814814815\n"
     ]
    },
    {
     "name": "stderr",
     "output_type": "stream",
     "text": [
      "Epoch 46/50, Training...: 100%|██████████| 107/107 [00:21<00:00,  4.89it/s]\n",
      "Epoch 46/50, Validation...: 100%|██████████| 27/27 [00:01<00:00, 14.74it/s]\n"
     ]
    },
    {
     "name": "stdout",
     "output_type": "stream",
     "text": [
      "Epoch 46/50, Train Loss: 0.028402750874252362, Val Loss: 0.3559874959496988, Train Acc: 0.981465392412395, Val Acc: 0.9351851851851852\n"
     ]
    },
    {
     "name": "stderr",
     "output_type": "stream",
     "text": [
      "Epoch 47/50, Training...: 100%|██████████| 107/107 [00:21<00:00,  4.89it/s]\n",
      "Epoch 47/50, Validation...: 100%|██████████| 27/27 [00:01<00:00, 14.55it/s]\n"
     ]
    },
    {
     "name": "stdout",
     "output_type": "stream",
     "text": [
      "Epoch 47/50, Train Loss: 0.03697651956395233, Val Loss: 0.2839582744571898, Train Acc: 0.9811757891688387, Val Acc: 0.9444444444444444\n"
     ]
    },
    {
     "name": "stderr",
     "output_type": "stream",
     "text": [
      "Epoch 48/50, Training...: 100%|██████████| 107/107 [00:21<00:00,  4.89it/s]\n",
      "Epoch 48/50, Validation...: 100%|██████████| 27/27 [00:01<00:00, 14.61it/s]\n"
     ]
    },
    {
     "name": "stdout",
     "output_type": "stream",
     "text": [
      "Epoch 48/50, Train Loss: 0.0478072830439963, Val Loss: 0.3545682263319139, Train Acc: 0.9788589632203881, Val Acc: 0.9131944444444444\n"
     ]
    },
    {
     "name": "stderr",
     "output_type": "stream",
     "text": [
      "Epoch 49/50, Training...: 100%|██████████| 107/107 [00:21<00:00,  4.89it/s]\n",
      "Epoch 49/50, Validation...: 100%|██████████| 27/27 [00:01<00:00, 14.65it/s]\n"
     ]
    },
    {
     "name": "stdout",
     "output_type": "stream",
     "text": [
      "Epoch 49/50, Train Loss: 0.026543576259801936, Val Loss: 0.2765765176154673, Train Acc: 0.9829134086301766, Val Acc: 0.9351851851851852\n"
     ]
    },
    {
     "name": "stderr",
     "output_type": "stream",
     "text": [
      "Epoch 50/50, Training...: 100%|██████████| 107/107 [00:21<00:00,  4.88it/s]\n",
      "Epoch 50/50, Validation...: 100%|██████████| 27/27 [00:01<00:00, 14.37it/s]"
     ]
    },
    {
     "name": "stdout",
     "output_type": "stream",
     "text": [
      "Epoch 50/50, Train Loss: 0.02202699675304145, Val Loss: 0.3531546846842738, Train Acc: 0.9849406313350709, Val Acc: 0.9317129629629629\n"
     ]
    },
    {
     "name": "stderr",
     "output_type": "stream",
     "text": [
      "\n"
     ]
    }
   ],
   "source": [
    "train_losses, val_losses, train_accuracies, val_accuracies = train_and_evaluate_model(model, train_loader, val_loader, criterion, optimizer)\n"
   ]
  },
  {
   "cell_type": "code",
   "execution_count": 13,
   "metadata": {},
   "outputs": [
    {
     "data": {
      "image/png": "[encoded data removed]",
      "text/plain": [
       "<Figure size 1200x500 with 2 Axes>"
      ]
     },
     "metadata": {},
     "output_type": "display_data"
    }
   ],
   "source": [
    "# グラフを保存するディレクトリを作成\n",
    "output_dir = '../results'\n",
    "os.makedirs(output_dir, exist_ok=True)\n",
    "\n",
    "# タイムスタンプを生成\n",
    "timestamp = datetime.now().strftime('%Y-%m-%d_%H-%M-%S')\n",
    "\n",
    "# LossとAccuracyのデータをCSVファイルに保存\n",
    "csv_filename = os.path.join(output_dir, f'{model_name}_{timestamp}.csv')\n",
    "with open(csv_filename, mode='w', newline='') as file:\n",
    "    writer = csv.writer(file)\n",
    "    writer.writerow(['Epoch', 'Training Loss', 'Validation Loss', 'Training Accuracy', 'Validation Accuracy'])\n",
    "    \n",
    "    for epoch in range(len(train_losses)):\n",
    "        writer.writerow([epoch+1, train_losses[epoch], val_losses[epoch], train_accuracies[epoch], val_accuracies[epoch]])\n",
    "\n",
    "\n",
    "# Lossのグラフを保存\n",
    "plt.figure(figsize=(12, 5))\n",
    "plt.subplot(1, 2, 1)\n",
    "plt.plot(train_losses, label='Training Loss')\n",
    "plt.plot(val_losses, label='Validation Loss')\n",
    "plt.title(f'Losses')\n",
    "plt.xlabel('Epochs')\n",
    "plt.ylabel('Loss')\n",
    "plt.legend()\n",
    "\n",
    "# Accuracyのグラフを保存\n",
    "plt.subplot(1, 2, 2)\n",
    "plt.plot(train_accuracies, label='Training Accuracy')\n",
    "plt.plot(val_accuracies, label='Validation Accuracy')\n",
    "plt.title(f'Accuracy')\n",
    "plt.xlabel('Epochs')\n",
    "plt.ylabel('Accuracy')\n",
    "plt.legend()\n",
    "\n",
    "# 画像を保存\n",
    "plt.savefig(os.path.join(output_dir, f'{model_name}_{timestamp}.png'))\n",
    "\n",
    "# 画像を表示\n",
    "plt.show()\n"
   ]
  }
 ],
 "metadata": {
  "kernelspec": {
   "display_name": "Python 3 (ipykernel)",
   "language": "python",
   "name": "python3"
  },
  "language_info": {
   "codemirror_mode": {
    "name": "ipython",
    "version": 3
   },
   "file_extension": ".py",
   "mimetype": "text/x-python",
   "name": "python",
   "nbconvert_exporter": "python",
   "pygments_lexer": "ipython3",
   "version": "3.10.13"
  }
 },
 "nbformat": 4,
 "nbformat_minor": 2
}
