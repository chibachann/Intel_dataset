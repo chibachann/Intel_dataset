{
 "cells": [
  {
   "cell_type": "code",
   "execution_count": 1,
   "metadata": {},
   "outputs": [],
   "source": [
    "import os\n",
    "import pandas as pd\n",
    "\n"
   ]
  },
  {
   "cell_type": "code",
   "execution_count": 7,
   "metadata": {},
   "outputs": [
    {
     "name": "stdout",
     "output_type": "stream",
     "text": [
      "Summary file created at:         Model Name  Max Validation Accuracy\n",
      "0     EfficientNet                 0.947917\n",
      "1   EfficientNetb2                 0.950231\n",
      "2         ResNet18                 0.927083\n",
      "3         ResNet50                 0.915509\n",
      "4         ResNet34                 0.922454\n",
      "5  EfficientNetv2s                 0.937500\n",
      "6   EfficientNetb1                 0.950231\n"
     ]
    }
   ],
   "source": [
    "def extract_and_compare_accuracy(directory):\n",
    "    # 指定ディレクトリ内のCSVファイルのリストを取得\n",
    "    csv_files = [f for f in os.listdir(directory) if f.endswith('.csv')]\n",
    "\n",
    "    # 各CSVファイルからValidation Accuracyの最大値を取得\n",
    "    max_val_acc = {}\n",
    "    for file in csv_files:\n",
    "        df = pd.read_csv(os.path.join(directory, file))\n",
    "        # 'Validation Accuracy'列が存在することを前提とする\n",
    "        max_accuracy = df['Validation Accuracy'].max()\n",
    "\n",
    "        # ファイル名からモデル名を取得（タイムスタンプを除去）\n",
    "        model_name = file.split('_')[0]  # 例えば、\"modelname_20230101.csv\" の場合 \"modelname\" を取得\n",
    "        max_val_acc[model_name] = max_accuracy\n",
    "\n",
    "    # 新しいCSVファイルに結果を保存\n",
    "    summary_file = os.path.join(directory + 'comparison/', 'validation_accuracy_summary.csv')\n",
    "    summary_df = pd.DataFrame(list(max_val_acc.items()), columns=['Model Name', 'Max Validation Accuracy'])\n",
    "    summary_df.to_csv(summary_file, index=False)\n",
    "\n",
    "    # 結果を表形式で表示\n",
    "    return summary_df\n",
    "\n",
    "# 実行例（'result/'は適宜変更してください）\n",
    "directory = '../results/'\n",
    "summary_file = extract_and_compare_accuracy(directory)\n",
    "print(f\"Summary file created at: {summary_file}\")"
   ]
  }
 ],
 "metadata": {
  "kernelspec": {
   "display_name": "base",
   "language": "python",
   "name": "python3"
  },
  "language_info": {
   "codemirror_mode": {
    "name": "ipython",
    "version": 3
   },
   "file_extension": ".py",
   "mimetype": "text/x-python",
   "name": "python",
   "nbconvert_exporter": "python",
   "pygments_lexer": "ipython3",
   "version": "3.9.12"
  }
 },
 "nbformat": 4,
 "nbformat_minor": 2
}
