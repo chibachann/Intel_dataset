{
 "cells": [
  {
   "cell_type": "code",
   "execution_count": 1,
   "metadata": {},
   "outputs": [],
   "source": [
    "import os\n",
    "import csv\n",
    "import matplotlib.pyplot as plt\n",
    "from tqdm import tqdm\n",
    "import torch\n",
    "import torch.nn as nn\n",
    "import torch.optim \n",
    "from torchvision import transforms, datasets\n",
    "from torch.optim.lr_scheduler import ReduceLROnPlateau\n",
    "from torch.utils.data import DataLoader, random_split\n",
    "from tqdm import tqdm\n",
    "from datetime import datetime\n",
    "import torchvision.models as models\n"
   ]
  },
  {
   "cell_type": "code",
   "execution_count": 2,
   "metadata": {},
   "outputs": [],
   "source": [
    "# 画像のサイズ\n",
    "IMG_SIZE = 260\n",
    "\n",
    "# データのディレクトリのパス\n",
    "FLOWER_DIR = '../input/flowers'\n",
    "\n",
    "batch_size = 32\n",
    "\n",
    "model_name = \"EfficientNetb2\""
   ]
  },
  {
   "cell_type": "code",
   "execution_count": 3,
   "metadata": {},
   "outputs": [
    {
     "name": "stdout",
     "output_type": "stream",
     "text": [
      "Using device: cuda\n"
     ]
    }
   ],
   "source": [
    "# GPUが利用可能かどうかを確認し、利用可能ならGPUを使用\n",
    "device = torch.device('cuda' if torch.cuda.is_available() else 'cpu')\n",
    "print(f'Using device: {device}')\n"
   ]
  },
  {
   "cell_type": "markdown",
   "metadata": {},
   "source": [
    "# データセットの作成"
   ]
  },
  {
   "cell_type": "code",
   "execution_count": 4,
   "metadata": {},
   "outputs": [],
   "source": [
    "transforms = transforms.Compose([\n",
    "    transforms.Resize((IMG_SIZE, IMG_SIZE)), # 画像サイズをリサイズ,\n",
    "    transforms.RandomHorizontalFlip(),\n",
    "    transforms.RandomRotation(10),\n",
    "    transforms.ToTensor(),\n",
    "    transforms.Normalize(mean=[0.485, 0.456, 0.406], std=[0.229, 0.224, 0.225])\n",
    "])\n",
    "\n",
    "# データセットを作成\n",
    "dataset = datasets.ImageFolder(FLOWER_DIR, transform=transforms)\n"
   ]
  },
  {
   "cell_type": "code",
   "execution_count": 5,
   "metadata": {},
   "outputs": [],
   "source": [
    "# 学習データに使用する割合\n",
    "n_train_ratio = 0.8\n",
    "\n",
    "# 割合から個数を出す\n",
    "n_train = int(len(dataset) * n_train_ratio)\n",
    "n_val   = int(len(dataset) - n_train)\n"
   ]
  },
  {
   "cell_type": "code",
   "execution_count": 6,
   "metadata": {},
   "outputs": [],
   "source": [
    "# 学習データと検証データに分割\n",
    "train, val = random_split(dataset, [n_train, n_val])\n"
   ]
  },
  {
   "cell_type": "code",
   "execution_count": 7,
   "metadata": {},
   "outputs": [],
   "source": [
    "# Data Loader\n",
    "train_loader = DataLoader(train, batch_size, shuffle=True, drop_last=True, num_workers=2)\n",
    "val_loader = DataLoader(val, batch_size, num_workers=2)\n"
   ]
  },
  {
   "cell_type": "code",
   "execution_count": 8,
   "metadata": {},
   "outputs": [],
   "source": [
    "\n",
    "class CustomEfficientNet(nn.Module):\n",
    "    def __init__(self, num_classes):\n",
    "        super(CustomEfficientNet, self).__init__()\n",
    "        self.efficientnet = models.efficientnet_b2(weights=\"IMAGENET1K_V1\") \n",
    "        in_features = self.efficientnet.classifier[1].in_features\n",
    "        self.efficientnet.classifier[1] = nn.Linear(in_features, num_classes)  # 新しい最終層を追加\n",
    "\n",
    "    def forward(self, x):\n",
    "        return self.efficientnet(x)\n"
   ]
  },
  {
   "cell_type": "code",
   "execution_count": 9,
   "metadata": {},
   "outputs": [
    {
     "name": "stderr",
     "output_type": "stream",
     "text": [
      "Downloading: \"https://download.pytorch.org/models/efficientnet_b2_rwightman-c35c1473.pth\" to /home/taisei/.cache/torch/hub/checkpoints/efficientnet_b2_rwightman-c35c1473.pth\n",
      "100%|██████████| 35.2M/35.2M [00:00<00:00, 56.5MB/s]\n"
     ]
    }
   ],
   "source": [
    "# 2. モデルの構築\n",
    "model = CustomEfficientNet(num_classes=5).to(device)\n"
   ]
  },
  {
   "cell_type": "code",
   "execution_count": 10,
   "metadata": {},
   "outputs": [],
   "source": [
    "# 3. 訓練と検証\n",
    "criterion = nn.CrossEntropyLoss()\n",
    "optimizer = torch.optim.Adam(model.parameters(), lr=0.001)\n",
    "scheduler = ReduceLROnPlateau(optimizer, 'min', patience=5)\n",
    "\n"
   ]
  },
  {
   "cell_type": "code",
   "execution_count": 11,
   "metadata": {},
   "outputs": [],
   "source": [
    "def train_and_evaluate_model(model, train_loader, val_loader, criterion, optimizer, num_epochs=50):\n",
    "    train_losses, val_losses = [], []\n",
    "    train_accuracies, val_accuracies = [], []\n",
    "\n",
    "    for epoch in range(num_epochs):\n",
    "        # 訓練フェーズ\n",
    "        model.train()\n",
    "        train_loss, train_correct = 0, 0\n",
    "        for inputs, labels in tqdm(train_loader, desc=f'Epoch {epoch+1}/{num_epochs}, Training...'):\n",
    "            inputs, labels = inputs.to(device), labels.to(device)\n",
    "            optimizer.zero_grad(set_to_none=True)\n",
    "            outputs = model(inputs)\n",
    "            loss = criterion(outputs, labels)\n",
    "            loss.backward()\n",
    "            optimizer.step()\n",
    "\n",
    "            train_loss += loss.item()\n",
    "            _, predicted = torch.max(outputs, 1)\n",
    "            train_correct += (predicted == labels).sum().item()\n",
    "\n",
    "        # 検証フェーズ\n",
    "        model.eval()\n",
    "        val_loss, val_correct = 0, 0\n",
    "        with torch.no_grad():\n",
    "            for inputs, labels in tqdm(val_loader, desc=f'Epoch {epoch+1}/{num_epochs}, Validation...'):\n",
    "                inputs, labels = inputs.to(device), labels.to(device)\n",
    "                outputs = model(inputs)\n",
    "                loss = criterion(outputs, labels)\n",
    "                val_loss += loss.item()\n",
    "                _, predicted = torch.max(outputs, 1)\n",
    "                val_correct += (predicted == labels).sum().item()\n",
    "\n",
    "        # 損失と精度の計算\n",
    "        train_losses.append(train_loss / len(train_loader))\n",
    "        val_losses.append(val_loss / len(val_loader))\n",
    "        train_accuracies.append(train_correct / len(train_loader.dataset))\n",
    "        val_accuracies.append(val_correct / len(val_loader.dataset))\n",
    "\n",
    "        print(f'Epoch {epoch+1}/{num_epochs}, Train Loss: {train_losses[-1]}, Val Loss: {val_losses[-1]}, Train Acc: {train_accuracies[-1]}, Val Acc: {val_accuracies[-1]}')\n",
    "\n",
    "    return train_losses, val_losses, train_accuracies, val_accuracies\n"
   ]
  },
  {
   "cell_type": "code",
   "execution_count": 12,
   "metadata": {},
   "outputs": [
    {
     "name": "stderr",
     "output_type": "stream",
     "text": [
      "Epoch 1/50, Training...: 100%|██████████| 107/107 [00:29<00:00,  3.69it/s]\n",
      "Epoch 1/50, Validation...: 100%|██████████| 27/27 [00:02<00:00, 13.24it/s]\n"
     ]
    },
    {
     "name": "stdout",
     "output_type": "stream",
     "text": [
      "Epoch 1/50, Train Loss: 0.4817326761016222, Val Loss: 0.30957523319456315, Train Acc: 0.8328989284679988, Val Acc: 0.9039351851851852\n"
     ]
    },
    {
     "name": "stderr",
     "output_type": "stream",
     "text": [
      "Epoch 2/50, Training...: 100%|██████████| 107/107 [00:28<00:00,  3.74it/s]\n",
      "Epoch 2/50, Validation...: 100%|██████████| 27/27 [00:02<00:00, 13.11it/s]\n"
     ]
    },
    {
     "name": "stdout",
     "output_type": "stream",
     "text": [
      "Epoch 2/50, Train Loss: 0.2401500421567498, Val Loss: 0.24985579815175799, Train Acc: 0.91167101071532, Val Acc: 0.9259259259259259\n"
     ]
    },
    {
     "name": "stderr",
     "output_type": "stream",
     "text": [
      "Epoch 3/50, Training...: 100%|██████████| 107/107 [00:28<00:00,  3.73it/s]\n",
      "Epoch 3/50, Validation...: 100%|██████████| 27/27 [00:02<00:00, 13.05it/s]\n"
     ]
    },
    {
     "name": "stdout",
     "output_type": "stream",
     "text": [
      "Epoch 3/50, Train Loss: 0.19693689373817957, Val Loss: 0.235780730843544, Train Acc: 0.9270199826238054, Val Acc: 0.9201388888888888\n"
     ]
    },
    {
     "name": "stderr",
     "output_type": "stream",
     "text": [
      "Epoch 4/50, Training...: 100%|██████████| 107/107 [00:28<00:00,  3.73it/s]\n",
      "Epoch 4/50, Validation...: 100%|██████████| 27/27 [00:02<00:00, 13.07it/s]\n"
     ]
    },
    {
     "name": "stdout",
     "output_type": "stream",
     "text": [
      "Epoch 4/50, Train Loss: 0.18031987711508699, Val Loss: 0.25070738906247747, Train Acc: 0.9377353026353895, Val Acc: 0.9166666666666666\n"
     ]
    },
    {
     "name": "stderr",
     "output_type": "stream",
     "text": [
      "Epoch 5/50, Training...: 100%|██████████| 107/107 [00:28<00:00,  3.74it/s]\n",
      "Epoch 5/50, Validation...: 100%|██████████| 27/27 [00:02<00:00, 13.13it/s]\n"
     ]
    },
    {
     "name": "stdout",
     "output_type": "stream",
     "text": [
      "Epoch 5/50, Train Loss: 0.14489503969029288, Val Loss: 0.27541024503470574, Train Acc: 0.9432377642629598, Val Acc: 0.9305555555555556\n"
     ]
    },
    {
     "name": "stderr",
     "output_type": "stream",
     "text": [
      "Epoch 6/50, Training...: 100%|██████████| 107/107 [00:28<00:00,  3.74it/s]\n",
      "Epoch 6/50, Validation...: 100%|██████████| 27/27 [00:02<00:00, 13.16it/s]\n"
     ]
    },
    {
     "name": "stdout",
     "output_type": "stream",
     "text": [
      "Epoch 6/50, Train Loss: 0.1255998067823282, Val Loss: 0.23427360435878788, Train Acc: 0.9493194323776426, Val Acc: 0.9212962962962963\n"
     ]
    },
    {
     "name": "stderr",
     "output_type": "stream",
     "text": [
      "Epoch 7/50, Training...: 100%|██████████| 107/107 [00:28<00:00,  3.74it/s]\n",
      "Epoch 7/50, Validation...: 100%|██████████| 27/27 [00:02<00:00, 13.15it/s]\n"
     ]
    },
    {
     "name": "stdout",
     "output_type": "stream",
     "text": [
      "Epoch 7/50, Train Loss: 0.09231912938738678, Val Loss: 0.4129894720045505, Train Acc: 0.9603243556327831, Val Acc: 0.9120370370370371\n"
     ]
    },
    {
     "name": "stderr",
     "output_type": "stream",
     "text": [
      "Epoch 8/50, Training...: 100%|██████████| 107/107 [00:28<00:00,  3.74it/s]\n",
      "Epoch 8/50, Validation...: 100%|██████████| 27/27 [00:02<00:00, 13.16it/s]\n"
     ]
    },
    {
     "name": "stdout",
     "output_type": "stream",
     "text": [
      "Epoch 8/50, Train Loss: 0.1146073619112651, Val Loss: 0.24239198284016716, Train Acc: 0.9562699102229945, Val Acc: 0.9340277777777778\n"
     ]
    },
    {
     "name": "stderr",
     "output_type": "stream",
     "text": [
      "Epoch 9/50, Training...: 100%|██████████| 107/107 [00:28<00:00,  3.74it/s]\n",
      "Epoch 9/50, Validation...: 100%|██████████| 27/27 [00:02<00:00, 13.17it/s]\n"
     ]
    },
    {
     "name": "stdout",
     "output_type": "stream",
     "text": [
      "Epoch 9/50, Train Loss: 0.0688612965940907, Val Loss: 0.33226664764461694, Train Acc: 0.9678540399652477, Val Acc: 0.9340277777777778\n"
     ]
    },
    {
     "name": "stderr",
     "output_type": "stream",
     "text": [
      "Epoch 10/50, Training...: 100%|██████████| 107/107 [00:28<00:00,  3.74it/s]\n",
      "Epoch 10/50, Validation...: 100%|██████████| 27/27 [00:02<00:00, 13.17it/s]\n"
     ]
    },
    {
     "name": "stdout",
     "output_type": "stream",
     "text": [
      "Epoch 10/50, Train Loss: 0.08819870185977388, Val Loss: 0.3101640754137878, Train Acc: 0.9669852302345786, Val Acc: 0.9305555555555556\n"
     ]
    },
    {
     "name": "stderr",
     "output_type": "stream",
     "text": [
      "Epoch 11/50, Training...: 100%|██████████| 107/107 [00:28<00:00,  3.74it/s]\n",
      "Epoch 11/50, Validation...: 100%|██████████| 27/27 [00:02<00:00, 13.12it/s]\n"
     ]
    },
    {
     "name": "stdout",
     "output_type": "stream",
     "text": [
      "Epoch 11/50, Train Loss: 0.08711358152817343, Val Loss: 0.2737087763983894, Train Acc: 0.9617723718505647, Val Acc: 0.9351851851851852\n"
     ]
    },
    {
     "name": "stderr",
     "output_type": "stream",
     "text": [
      "Epoch 12/50, Training...: 100%|██████████| 107/107 [00:28<00:00,  3.73it/s]\n",
      "Epoch 12/50, Validation...: 100%|██████████| 27/27 [00:02<00:00, 13.07it/s]\n"
     ]
    },
    {
     "name": "stdout",
     "output_type": "stream",
     "text": [
      "Epoch 12/50, Train Loss: 0.06567212338037093, Val Loss: 0.31325706494627176, Train Acc: 0.9721980886185926, Val Acc: 0.9178240740740741\n"
     ]
    },
    {
     "name": "stderr",
     "output_type": "stream",
     "text": [
      "Epoch 13/50, Training...: 100%|██████████| 107/107 [00:28<00:00,  3.73it/s]\n",
      "Epoch 13/50, Validation...: 100%|██████████| 27/27 [00:02<00:00, 13.24it/s]\n"
     ]
    },
    {
     "name": "stdout",
     "output_type": "stream",
     "text": [
      "Epoch 13/50, Train Loss: 0.08000231969875292, Val Loss: 0.22420872175307185, Train Acc: 0.9643788010425717, Val Acc: 0.9363425925925926\n"
     ]
    },
    {
     "name": "stderr",
     "output_type": "stream",
     "text": [
      "Epoch 14/50, Training...: 100%|██████████| 107/107 [00:28<00:00,  3.73it/s]\n",
      "Epoch 14/50, Validation...: 100%|██████████| 27/27 [00:02<00:00, 13.15it/s]\n"
     ]
    },
    {
     "name": "stdout",
     "output_type": "stream",
     "text": [
      "Epoch 14/50, Train Loss: 0.07481570762721386, Val Loss: 0.2818577913739891, Train Acc: 0.9675644367216912, Val Acc: 0.9282407407407407\n"
     ]
    },
    {
     "name": "stderr",
     "output_type": "stream",
     "text": [
      "Epoch 15/50, Training...: 100%|██████████| 107/107 [00:28<00:00,  3.73it/s]\n",
      "Epoch 15/50, Validation...: 100%|██████████| 27/27 [00:02<00:00, 13.12it/s]\n"
     ]
    },
    {
     "name": "stdout",
     "output_type": "stream",
     "text": [
      "Epoch 15/50, Train Loss: 0.09058683402792803, Val Loss: 0.31303964948488605, Train Acc: 0.9675644367216912, Val Acc: 0.9259259259259259\n"
     ]
    },
    {
     "name": "stderr",
     "output_type": "stream",
     "text": [
      "Epoch 16/50, Training...: 100%|██████████| 107/107 [00:28<00:00,  3.73it/s]\n",
      "Epoch 16/50, Validation...: 100%|██████████| 27/27 [00:02<00:00, 13.01it/s]\n"
     ]
    },
    {
     "name": "stdout",
     "output_type": "stream",
     "text": [
      "Epoch 16/50, Train Loss: 0.06363405335191899, Val Loss: 0.2330949782497353, Train Acc: 0.9710396756443672, Val Acc: 0.9398148148148148\n"
     ]
    },
    {
     "name": "stderr",
     "output_type": "stream",
     "text": [
      "Epoch 17/50, Training...: 100%|██████████| 107/107 [00:28<00:00,  3.73it/s]\n",
      "Epoch 17/50, Validation...: 100%|██████████| 27/27 [00:02<00:00, 13.11it/s]\n"
     ]
    },
    {
     "name": "stdout",
     "output_type": "stream",
     "text": [
      "Epoch 17/50, Train Loss: 0.07156775546451664, Val Loss: 0.31372632803740325, Train Acc: 0.9690124529394729, Val Acc: 0.9317129629629629\n"
     ]
    },
    {
     "name": "stderr",
     "output_type": "stream",
     "text": [
      "Epoch 18/50, Training...: 100%|██████████| 107/107 [00:28<00:00,  3.73it/s]\n",
      "Epoch 18/50, Validation...: 100%|██████████| 27/27 [00:02<00:00, 13.19it/s]\n"
     ]
    },
    {
     "name": "stdout",
     "output_type": "stream",
     "text": [
      "Epoch 18/50, Train Loss: 0.06295887279219786, Val Loss: 0.2279434679765944, Train Acc: 0.9727772951057052, Val Acc: 0.9270833333333334\n"
     ]
    },
    {
     "name": "stderr",
     "output_type": "stream",
     "text": [
      "Epoch 19/50, Training...: 100%|██████████| 107/107 [00:28<00:00,  3.73it/s]\n",
      "Epoch 19/50, Validation...: 100%|██████████| 27/27 [00:02<00:00, 13.08it/s]\n"
     ]
    },
    {
     "name": "stdout",
     "output_type": "stream",
     "text": [
      "Epoch 19/50, Train Loss: 0.045280482038468226, Val Loss: 0.27821333016510363, Train Acc: 0.9750941210541558, Val Acc: 0.9201388888888888\n"
     ]
    },
    {
     "name": "stderr",
     "output_type": "stream",
     "text": [
      "Epoch 20/50, Training...: 100%|██████████| 107/107 [00:28<00:00,  3.73it/s]\n",
      "Epoch 20/50, Validation...: 100%|██████████| 27/27 [00:02<00:00, 13.14it/s]\n"
     ]
    },
    {
     "name": "stdout",
     "output_type": "stream",
     "text": [
      "Epoch 20/50, Train Loss: 0.06643080087400381, Val Loss: 0.2461267409035591, Train Acc: 0.9687228496959166, Val Acc: 0.9317129629629629\n"
     ]
    },
    {
     "name": "stderr",
     "output_type": "stream",
     "text": [
      "Epoch 21/50, Training...: 100%|██████████| 107/107 [00:28<00:00,  3.73it/s]\n",
      "Epoch 21/50, Validation...: 100%|██████████| 27/27 [00:02<00:00, 13.10it/s]\n"
     ]
    },
    {
     "name": "stdout",
     "output_type": "stream",
     "text": [
      "Epoch 21/50, Train Loss: 0.03412592081923177, Val Loss: 0.2453381637568344, Train Acc: 0.9794381697075007, Val Acc: 0.9409722222222222\n"
     ]
    },
    {
     "name": "stderr",
     "output_type": "stream",
     "text": [
      "Epoch 22/50, Training...: 100%|██████████| 107/107 [00:28<00:00,  3.73it/s]\n",
      "Epoch 22/50, Validation...: 100%|██████████| 27/27 [00:02<00:00, 13.17it/s]\n"
     ]
    },
    {
     "name": "stdout",
     "output_type": "stream",
     "text": [
      "Epoch 22/50, Train Loss: 0.03220171332138995, Val Loss: 0.3178891207057017, Train Acc: 0.981465392412395, Val Acc: 0.9305555555555556\n"
     ]
    },
    {
     "name": "stderr",
     "output_type": "stream",
     "text": [
      "Epoch 23/50, Training...: 100%|██████████| 107/107 [00:28<00:00,  3.72it/s]\n",
      "Epoch 23/50, Validation...: 100%|██████████| 27/27 [00:02<00:00, 13.20it/s]\n"
     ]
    },
    {
     "name": "stdout",
     "output_type": "stream",
     "text": [
      "Epoch 23/50, Train Loss: 0.06702687248487513, Val Loss: 0.4972588430952143, Train Acc: 0.9736461048363741, Val Acc: 0.9004629629629629\n"
     ]
    },
    {
     "name": "stderr",
     "output_type": "stream",
     "text": [
      "Epoch 24/50, Training...: 100%|██████████| 107/107 [00:28<00:00,  3.73it/s]\n",
      "Epoch 24/50, Validation...: 100%|██████████| 27/27 [00:02<00:00, 13.02it/s]\n"
     ]
    },
    {
     "name": "stdout",
     "output_type": "stream",
     "text": [
      "Epoch 24/50, Train Loss: 0.06750865497356542, Val Loss: 0.3620640669983846, Train Acc: 0.9695916594265855, Val Acc: 0.9201388888888888\n"
     ]
    },
    {
     "name": "stderr",
     "output_type": "stream",
     "text": [
      "Epoch 25/50, Training...: 100%|██████████| 107/107 [00:28<00:00,  3.72it/s]\n",
      "Epoch 25/50, Validation...: 100%|██████████| 27/27 [00:02<00:00, 13.06it/s]\n"
     ]
    },
    {
     "name": "stdout",
     "output_type": "stream",
     "text": [
      "Epoch 25/50, Train Loss: 0.058721730451830705, Val Loss: 0.26143807971298144, Train Acc: 0.9733565015928178, Val Acc: 0.9282407407407407\n"
     ]
    },
    {
     "name": "stderr",
     "output_type": "stream",
     "text": [
      "Epoch 26/50, Training...: 100%|██████████| 107/107 [00:28<00:00,  3.73it/s]\n",
      "Epoch 26/50, Validation...: 100%|██████████| 27/27 [00:02<00:00, 13.09it/s]\n"
     ]
    },
    {
     "name": "stdout",
     "output_type": "stream",
     "text": [
      "Epoch 26/50, Train Loss: 0.035165925436788106, Val Loss: 0.324452663478614, Train Acc: 0.9800173761946134, Val Acc: 0.9293981481481481\n"
     ]
    },
    {
     "name": "stderr",
     "output_type": "stream",
     "text": [
      "Epoch 27/50, Training...: 100%|██████████| 107/107 [00:28<00:00,  3.73it/s]\n",
      "Epoch 27/50, Validation...: 100%|██████████| 27/27 [00:02<00:00, 13.11it/s]\n"
     ]
    },
    {
     "name": "stdout",
     "output_type": "stream",
     "text": [
      "Epoch 27/50, Train Loss: 0.06275704814497574, Val Loss: 0.3763977316794572, Train Acc: 0.9724876918621489, Val Acc: 0.9131944444444444\n"
     ]
    },
    {
     "name": "stderr",
     "output_type": "stream",
     "text": [
      "Epoch 28/50, Training...: 100%|██████████| 107/107 [00:28<00:00,  3.73it/s]\n",
      "Epoch 28/50, Validation...: 100%|██████████| 27/27 [00:02<00:00, 12.33it/s]\n"
     ]
    },
    {
     "name": "stdout",
     "output_type": "stream",
     "text": [
      "Epoch 28/50, Train Loss: 0.0559375672492364, Val Loss: 0.22115897762382197, Train Acc: 0.9748045178105995, Val Acc: 0.9502314814814815\n"
     ]
    },
    {
     "name": "stderr",
     "output_type": "stream",
     "text": [
      "Epoch 29/50, Training...: 100%|██████████| 107/107 [00:28<00:00,  3.73it/s]\n",
      "Epoch 29/50, Validation...: 100%|██████████| 27/27 [00:02<00:00, 12.49it/s]\n"
     ]
    },
    {
     "name": "stdout",
     "output_type": "stream",
     "text": [
      "Epoch 29/50, Train Loss: 0.03094690971546502, Val Loss: 0.2839340155047399, Train Acc: 0.9788589632203881, Val Acc: 0.9247685185185185\n"
     ]
    },
    {
     "name": "stderr",
     "output_type": "stream",
     "text": [
      "Epoch 30/50, Training...: 100%|██████████| 107/107 [00:28<00:00,  3.72it/s]\n",
      "Epoch 30/50, Validation...: 100%|██████████| 27/27 [00:02<00:00, 12.65it/s]\n"
     ]
    },
    {
     "name": "stdout",
     "output_type": "stream",
     "text": [
      "Epoch 30/50, Train Loss: 0.04782225511517706, Val Loss: 0.28895225032681116, Train Acc: 0.9779901534897191, Val Acc: 0.9224537037037037\n"
     ]
    },
    {
     "name": "stderr",
     "output_type": "stream",
     "text": [
      "Epoch 31/50, Training...: 100%|██████████| 107/107 [00:28<00:00,  3.72it/s]\n",
      "Epoch 31/50, Validation...: 100%|██████████| 27/27 [00:02<00:00, 12.52it/s]\n"
     ]
    },
    {
     "name": "stdout",
     "output_type": "stream",
     "text": [
      "Epoch 31/50, Train Loss: 0.04826115313960918, Val Loss: 0.3506050191267773, Train Acc: 0.9739357080799305, Val Acc: 0.9201388888888888\n"
     ]
    },
    {
     "name": "stderr",
     "output_type": "stream",
     "text": [
      "Epoch 32/50, Training...: 100%|██████████| 107/107 [00:28<00:00,  3.72it/s]\n",
      "Epoch 32/50, Validation...: 100%|██████████| 27/27 [00:02<00:00, 12.64it/s]\n"
     ]
    },
    {
     "name": "stdout",
     "output_type": "stream",
     "text": [
      "Epoch 32/50, Train Loss: 0.07407027074336031, Val Loss: 0.31049813947605864, Train Acc: 0.9695916594265855, Val Acc: 0.9363425925925926\n"
     ]
    },
    {
     "name": "stderr",
     "output_type": "stream",
     "text": [
      "Epoch 33/50, Training...: 100%|██████████| 107/107 [00:28<00:00,  3.73it/s]\n",
      "Epoch 33/50, Validation...: 100%|██████████| 27/27 [00:02<00:00, 12.51it/s]\n"
     ]
    },
    {
     "name": "stdout",
     "output_type": "stream",
     "text": [
      "Epoch 33/50, Train Loss: 0.04040055915973885, Val Loss: 0.46026433542094847, Train Acc: 0.9774109470026064, Val Acc: 0.9282407407407407\n"
     ]
    },
    {
     "name": "stderr",
     "output_type": "stream",
     "text": [
      "Epoch 34/50, Training...: 100%|██████████| 107/107 [00:28<00:00,  3.73it/s]\n",
      "Epoch 34/50, Validation...: 100%|██████████| 27/27 [00:02<00:00, 12.41it/s]\n"
     ]
    },
    {
     "name": "stdout",
     "output_type": "stream",
     "text": [
      "Epoch 34/50, Train Loss: 0.05637244713355604, Val Loss: 0.42073983174783214, Train Acc: 0.9739357080799305, Val Acc: 0.8981481481481481\n"
     ]
    },
    {
     "name": "stderr",
     "output_type": "stream",
     "text": [
      "Epoch 35/50, Training...: 100%|██████████| 107/107 [00:28<00:00,  3.73it/s]\n",
      "Epoch 35/50, Validation...: 100%|██████████| 27/27 [00:02<00:00, 12.53it/s]\n"
     ]
    },
    {
     "name": "stdout",
     "output_type": "stream",
     "text": [
      "Epoch 35/50, Train Loss: 0.06741874063252602, Val Loss: 0.278594582307118, Train Acc: 0.9661164205039097, Val Acc: 0.9328703703703703\n"
     ]
    },
    {
     "name": "stderr",
     "output_type": "stream",
     "text": [
      "Epoch 36/50, Training...: 100%|██████████| 107/107 [00:28<00:00,  3.73it/s]\n",
      "Epoch 36/50, Validation...: 100%|██████████| 27/27 [00:02<00:00, 12.56it/s]\n"
     ]
    },
    {
     "name": "stdout",
     "output_type": "stream",
     "text": [
      "Epoch 36/50, Train Loss: 0.04622136258137212, Val Loss: 0.24493871879315487, Train Acc: 0.9791485664639444, Val Acc: 0.9317129629629629\n"
     ]
    },
    {
     "name": "stderr",
     "output_type": "stream",
     "text": [
      "Epoch 37/50, Training...: 100%|██████████| 107/107 [00:28<00:00,  3.73it/s]\n",
      "Epoch 37/50, Validation...: 100%|██████████| 27/27 [00:02<00:00, 12.53it/s]\n"
     ]
    },
    {
     "name": "stdout",
     "output_type": "stream",
     "text": [
      "Epoch 37/50, Train Loss: 0.02363427850025027, Val Loss: 0.2642773976377039, Train Acc: 0.9826238053866203, Val Acc: 0.9398148148148148\n"
     ]
    },
    {
     "name": "stderr",
     "output_type": "stream",
     "text": [
      "Epoch 38/50, Training...: 100%|██████████| 107/107 [00:28<00:00,  3.73it/s]\n",
      "Epoch 38/50, Validation...: 100%|██████████| 27/27 [00:02<00:00, 12.61it/s]\n"
     ]
    },
    {
     "name": "stdout",
     "output_type": "stream",
     "text": [
      "Epoch 38/50, Train Loss: 0.05236445689980793, Val Loss: 0.3615619070931441, Train Acc: 0.9777005502461628, Val Acc: 0.9120370370370371\n"
     ]
    },
    {
     "name": "stderr",
     "output_type": "stream",
     "text": [
      "Epoch 39/50, Training...: 100%|██████████| 107/107 [00:28<00:00,  3.71it/s]\n",
      "Epoch 39/50, Validation...: 100%|██████████| 27/27 [00:02<00:00, 12.70it/s]\n"
     ]
    },
    {
     "name": "stdout",
     "output_type": "stream",
     "text": [
      "Epoch 39/50, Train Loss: 0.04991945778574603, Val Loss: 0.28493672685214766, Train Acc: 0.9753837242977121, Val Acc: 0.9224537037037037\n"
     ]
    },
    {
     "name": "stderr",
     "output_type": "stream",
     "text": [
      "Epoch 40/50, Training...: 100%|██████████| 107/107 [00:28<00:00,  3.73it/s]\n",
      "Epoch 40/50, Validation...: 100%|██████████| 27/27 [00:02<00:00, 12.63it/s]\n"
     ]
    },
    {
     "name": "stdout",
     "output_type": "stream",
     "text": [
      "Epoch 40/50, Train Loss: 0.04025308253509036, Val Loss: 0.24244266677716816, Train Acc: 0.9762525340283811, Val Acc: 0.9328703703703703\n"
     ]
    },
    {
     "name": "stderr",
     "output_type": "stream",
     "text": [
      "Epoch 41/50, Training...: 100%|██████████| 107/107 [00:28<00:00,  3.73it/s]\n",
      "Epoch 41/50, Validation...: 100%|██████████| 27/27 [00:02<00:00, 12.51it/s]\n"
     ]
    },
    {
     "name": "stdout",
     "output_type": "stream",
     "text": [
      "Epoch 41/50, Train Loss: 0.04593948012861972, Val Loss: 0.2581560658118515, Train Acc: 0.9791485664639444, Val Acc: 0.9328703703703703\n"
     ]
    },
    {
     "name": "stderr",
     "output_type": "stream",
     "text": [
      "Epoch 42/50, Training...: 100%|██████████| 107/107 [00:28<00:00,  3.72it/s]\n",
      "Epoch 42/50, Validation...: 100%|██████████| 27/27 [00:02<00:00, 12.57it/s]\n"
     ]
    },
    {
     "name": "stdout",
     "output_type": "stream",
     "text": [
      "Epoch 42/50, Train Loss: 0.03555378838084316, Val Loss: 0.31457894597271524, Train Acc: 0.9788589632203881, Val Acc: 0.9328703703703703\n"
     ]
    },
    {
     "name": "stderr",
     "output_type": "stream",
     "text": [
      "Epoch 43/50, Training...: 100%|██████████| 107/107 [00:28<00:00,  3.71it/s]\n",
      "Epoch 43/50, Validation...: 100%|██████████| 27/27 [00:02<00:00, 12.59it/s]\n"
     ]
    },
    {
     "name": "stdout",
     "output_type": "stream",
     "text": [
      "Epoch 43/50, Train Loss: 0.03072706536443199, Val Loss: 0.33212151330102374, Train Acc: 0.9800173761946134, Val Acc: 0.9317129629629629\n"
     ]
    },
    {
     "name": "stderr",
     "output_type": "stream",
     "text": [
      "Epoch 44/50, Training...: 100%|██████████| 107/107 [00:28<00:00,  3.72it/s]\n",
      "Epoch 44/50, Validation...: 100%|██████████| 27/27 [00:02<00:00, 10.42it/s]\n"
     ]
    },
    {
     "name": "stdout",
     "output_type": "stream",
     "text": [
      "Epoch 44/50, Train Loss: 0.038389616822331565, Val Loss: 0.2693255812412611, Train Acc: 0.9800173761946134, Val Acc: 0.9456018518518519\n"
     ]
    },
    {
     "name": "stderr",
     "output_type": "stream",
     "text": [
      "Epoch 45/50, Training...: 100%|██████████| 107/107 [00:28<00:00,  3.72it/s]\n",
      "Epoch 45/50, Validation...: 100%|██████████| 27/27 [00:02<00:00, 13.03it/s]\n"
     ]
    },
    {
     "name": "stdout",
     "output_type": "stream",
     "text": [
      "Epoch 45/50, Train Loss: 0.036197051225027733, Val Loss: 0.268128962368118, Train Acc: 0.9794381697075007, Val Acc: 0.9432870370370371\n"
     ]
    },
    {
     "name": "stderr",
     "output_type": "stream",
     "text": [
      "Epoch 46/50, Training...: 100%|██████████| 107/107 [00:28<00:00,  3.72it/s]\n",
      "Epoch 46/50, Validation...: 100%|██████████| 27/27 [00:02<00:00, 12.71it/s]\n"
     ]
    },
    {
     "name": "stdout",
     "output_type": "stream",
     "text": [
      "Epoch 46/50, Train Loss: 0.02836697169190064, Val Loss: 0.2725374279522199, Train Acc: 0.9820445988995077, Val Acc: 0.9444444444444444\n"
     ]
    },
    {
     "name": "stderr",
     "output_type": "stream",
     "text": [
      "Epoch 47/50, Training...: 100%|██████████| 107/107 [00:28<00:00,  3.71it/s]\n",
      "Epoch 47/50, Validation...: 100%|██████████| 27/27 [00:02<00:00, 12.85it/s]\n"
     ]
    },
    {
     "name": "stdout",
     "output_type": "stream",
     "text": [
      "Epoch 47/50, Train Loss: 0.039530986329218566, Val Loss: 0.2978850550113108, Train Acc: 0.980596582681726, Val Acc: 0.9363425925925926\n"
     ]
    },
    {
     "name": "stderr",
     "output_type": "stream",
     "text": [
      "Epoch 48/50, Training...: 100%|██████████| 107/107 [00:28<00:00,  3.72it/s]\n",
      "Epoch 48/50, Validation...: 100%|██████████| 27/27 [00:02<00:00, 10.80it/s]\n"
     ]
    },
    {
     "name": "stdout",
     "output_type": "stream",
     "text": [
      "Epoch 48/50, Train Loss: 0.01796165595197491, Val Loss: 0.35585352540430093, Train Acc: 0.9849406313350709, Val Acc: 0.9247685185185185\n"
     ]
    },
    {
     "name": "stderr",
     "output_type": "stream",
     "text": [
      "Epoch 49/50, Training...: 100%|██████████| 107/107 [00:28<00:00,  3.73it/s]\n",
      "Epoch 49/50, Validation...: 100%|██████████| 27/27 [00:02<00:00, 13.20it/s]\n"
     ]
    },
    {
     "name": "stdout",
     "output_type": "stream",
     "text": [
      "Epoch 49/50, Train Loss: 0.03744761861447859, Val Loss: 0.4024823142077636, Train Acc: 0.9774109470026064, Val Acc: 0.9212962962962963\n"
     ]
    },
    {
     "name": "stderr",
     "output_type": "stream",
     "text": [
      "Epoch 50/50, Training...: 100%|██████████| 107/107 [00:28<00:00,  3.72it/s]\n",
      "Epoch 50/50, Validation...: 100%|██████████| 27/27 [00:02<00:00, 13.14it/s]"
     ]
    },
    {
     "name": "stdout",
     "output_type": "stream",
     "text": [
      "Epoch 50/50, Train Loss: 0.03144145332458788, Val Loss: 0.3237771466589981, Train Acc: 0.9808861859252823, Val Acc: 0.9293981481481481\n"
     ]
    },
    {
     "name": "stderr",
     "output_type": "stream",
     "text": [
      "\n"
     ]
    }
   ],
   "source": [
    "train_losses, val_losses, train_accuracies, val_accuracies = train_and_evaluate_model(model, train_loader, val_loader, criterion, optimizer)\n"
   ]
  },
  {
   "cell_type": "code",
   "execution_count": 13,
   "metadata": {},
   "outputs": [
    {
     "data": {
      "image/png": "[encoded data removed]",
      "text/plain": [
       "<Figure size 1200x500 with 2 Axes>"
      ]
     },
     "metadata": {},
     "output_type": "display_data"
    }
   ],
   "source": [
    "# グラフを保存するディレクトリを作成\n",
    "output_dir = '../results'\n",
    "os.makedirs(output_dir, exist_ok=True)\n",
    "\n",
    "# タイムスタンプを生成\n",
    "timestamp = datetime.now().strftime('%Y-%m-%d_%H-%M-%S')\n",
    "\n",
    "# LossとAccuracyのデータをCSVファイルに保存\n",
    "csv_filename = os.path.join(output_dir, f'{model_name}_{timestamp}.csv')\n",
    "with open(csv_filename, mode='w', newline='') as file:\n",
    "    writer = csv.writer(file)\n",
    "    writer.writerow(['Epoch', 'Training Loss', 'Validation Loss', 'Training Accuracy', 'Validation Accuracy'])\n",
    "    \n",
    "    for epoch in range(len(train_losses)):\n",
    "        writer.writerow([epoch+1, train_losses[epoch], val_losses[epoch], train_accuracies[epoch], val_accuracies[epoch]])\n",
    "\n",
    "\n",
    "# Lossのグラフを保存\n",
    "plt.figure(figsize=(12, 5))\n",
    "plt.subplot(1, 2, 1)\n",
    "plt.plot(train_losses, label='Training Loss')\n",
    "plt.plot(val_losses, label='Validation Loss')\n",
    "plt.title(f'Losses')\n",
    "plt.xlabel('Epochs')\n",
    "plt.ylabel('Loss')\n",
    "plt.legend()\n",
    "\n",
    "# Accuracyのグラフを保存\n",
    "plt.subplot(1, 2, 2)\n",
    "plt.plot(train_accuracies, label='Training Accuracy')\n",
    "plt.plot(val_accuracies, label='Validation Accuracy')\n",
    "plt.title(f'Accuracy')\n",
    "plt.xlabel('Epochs')\n",
    "plt.ylabel('Accuracy')\n",
    "plt.legend()\n",
    "\n",
    "# 画像を保存\n",
    "plt.savefig(os.path.join(output_dir, f'{model_name}_{timestamp}.png'))\n",
    "\n",
    "# 画像を表示\n",
    "plt.show()\n"
   ]
  }
 ],
 "metadata": {
  "kernelspec": {
   "display_name": "Python 3 (ipykernel)",
   "language": "python",
   "name": "python3"
  },
  "language_info": {
   "codemirror_mode": {
    "name": "ipython",
    "version": 3
   },
   "file_extension": ".py",
   "mimetype": "text/x-python",
   "name": "python",
   "nbconvert_exporter": "python",
   "pygments_lexer": "ipython3",
   "version": "3.10.13"
  }
 },
 "nbformat": 4,
 "nbformat_minor": 2
}
