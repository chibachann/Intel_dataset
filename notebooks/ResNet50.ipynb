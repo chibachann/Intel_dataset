{
 "cells": [
  {
   "cell_type": "code",
   "execution_count": 1,
   "metadata": {},
   "outputs": [],
   "source": [
    "import os\n",
    "import csv\n",
    "import matplotlib.pyplot as plt\n",
    "from tqdm import tqdm\n",
    "import torch\n",
    "import torch.nn as nn\n",
    "import torch.optim \n",
    "from torchvision import transforms, datasets\n",
    "from torch.optim.lr_scheduler import ReduceLROnPlateau\n",
    "from torch.utils.data import DataLoader, random_split\n",
    "from tqdm import tqdm\n",
    "from datetime import datetime\n",
    "import torchvision.models as models\n",
    "import random\n",
    "import numpy as np\n"
   ]
  },
  {
   "cell_type": "code",
   "execution_count": 2,
   "metadata": {},
   "outputs": [],
   "source": [
    "# 画像のサイズ\n",
    "IMG_SIZE = 224\n",
    "\n",
    "# データのディレクトリのパス\n",
    "FLOWER_DIR = '../input/flowers'\n",
    "\n",
    "batch_size = 64\n",
    "\n",
    "model_name = \"ResNet50\"\n"
   ]
  },
  {
   "cell_type": "code",
   "execution_count": 3,
   "metadata": {},
   "outputs": [
    {
     "name": "stdout",
     "output_type": "stream",
     "text": [
      "Using device: cuda\n"
     ]
    }
   ],
   "source": [
    "# GPUが利用可能かどうかを確認し、利用可能ならGPUを使用\n",
    "device = torch.device('cuda' if torch.cuda.is_available() else 'cpu')\n",
    "print(f'Using device: {device}')\n"
   ]
  },
  {
   "cell_type": "markdown",
   "metadata": {},
   "source": [
    "# データセットの作成"
   ]
  },
  {
   "cell_type": "code",
   "execution_count": 4,
   "metadata": {},
   "outputs": [],
   "source": [
    "transforms = transforms.Compose([\n",
    "    transforms.Resize((IMG_SIZE, IMG_SIZE)), # 画像サイズをリサイズ,\n",
    "    transforms.RandomHorizontalFlip(),\n",
    "    transforms.RandomRotation(10),\n",
    "    transforms.ToTensor(),\n",
    "    transforms.Normalize(mean=[0.485, 0.456, 0.406], std=[0.229, 0.224, 0.225])\n",
    "])\n",
    "\n",
    "# データセットを作成\n",
    "dataset = datasets.ImageFolder(FLOWER_DIR, transform=transforms)\n"
   ]
  },
  {
   "cell_type": "code",
   "execution_count": 5,
   "metadata": {},
   "outputs": [],
   "source": [
    "# 学習データに使用する割合\n",
    "n_train_ratio = 0.8\n",
    "\n",
    "# 割合から個数を出す\n",
    "n_train = int(len(dataset) * n_train_ratio)\n",
    "n_val   = int(len(dataset) - n_train)\n"
   ]
  },
  {
   "cell_type": "code",
   "execution_count": 6,
   "metadata": {},
   "outputs": [],
   "source": [
    "# 学習データと検証データに分割\n",
    "train, val = random_split(dataset, [n_train, n_val])\n"
   ]
  },
  {
   "cell_type": "code",
   "execution_count": 7,
   "metadata": {},
   "outputs": [],
   "source": [
    "# Data Loader\n",
    "train_loader = DataLoader(train, batch_size, shuffle=True, drop_last=True, num_workers=2)\n",
    "val_loader = DataLoader(val, batch_size, num_workers=2)\n"
   ]
  },
  {
   "cell_type": "code",
   "execution_count": 8,
   "metadata": {},
   "outputs": [],
   "source": [
    "# ResNet-34モデルの定義\n",
    "class CustomResNet50(nn.Module):\n",
    "    def __init__(self, num_classes):\n",
    "        super(CustomResNet50, self).__init__()\n",
    "        self.resnet = models.resnet50(weights=\"IMAGENET1K_V1\")  # 事前学習済みのResNet-34モデルをロード\n",
    "        # 最終の全結合層を入れ替えて、出力クラスの数に合わせる\n",
    "        num_features = self.resnet.fc.in_features\n",
    "        self.resnet.fc = nn.Linear(num_features, num_classes)\n",
    "\n",
    "    def forward(self, x):\n",
    "        return self.resnet(x)\n"
   ]
  },
  {
   "cell_type": "code",
   "execution_count": 9,
   "metadata": {},
   "outputs": [],
   "source": [
    "# 2. モデルの構築\n",
    "model = CustomResNet50(num_classes=5).to(device)\n"
   ]
  },
  {
   "cell_type": "code",
   "execution_count": 10,
   "metadata": {},
   "outputs": [],
   "source": [
    "# 3. 訓練と検証\n",
    "criterion = nn.CrossEntropyLoss()\n",
    "optimizer = torch.optim.Adam(model.parameters(), lr=0.001)\n",
    "scheduler = ReduceLROnPlateau(optimizer, 'min', patience=5)\n",
    "\n"
   ]
  },
  {
   "cell_type": "code",
   "execution_count": 11,
   "metadata": {},
   "outputs": [],
   "source": [
    "def train_and_evaluate_model(model, train_loader, val_loader, criterion, optimizer, num_epochs=50):\n",
    "    train_losses, val_losses = [], []\n",
    "    train_accuracies, val_accuracies = [], []\n",
    "\n",
    "    for epoch in range(num_epochs):\n",
    "        # 訓練フェーズ\n",
    "        model.train()\n",
    "        train_loss, train_correct = 0, 0\n",
    "        for inputs, labels in tqdm(train_loader, desc=f'Epoch {epoch+1}/{num_epochs}, Training...'):\n",
    "            inputs, labels = inputs.to(device), labels.to(device)\n",
    "            optimizer.zero_grad(set_to_none=True)\n",
    "            outputs = model(inputs)\n",
    "            loss = criterion(outputs, labels)\n",
    "            loss.backward()\n",
    "            optimizer.step()\n",
    "\n",
    "            train_loss += loss.item()\n",
    "            _, predicted = torch.max(outputs, 1)\n",
    "            train_correct += (predicted == labels).sum().item()\n",
    "\n",
    "        # 検証フェーズ\n",
    "        model.eval()\n",
    "        val_loss, val_correct = 0, 0\n",
    "        with torch.no_grad():\n",
    "            for inputs, labels in tqdm(val_loader, desc=f'Epoch {epoch+1}/{num_epochs}, Validation...'):\n",
    "                inputs, labels = inputs.to(device), labels.to(device)\n",
    "                outputs = model(inputs)\n",
    "                loss = criterion(outputs, labels)\n",
    "                val_loss += loss.item()\n",
    "                _, predicted = torch.max(outputs, 1)\n",
    "                val_correct += (predicted == labels).sum().item()\n",
    "\n",
    "        # 損失と精度の計算\n",
    "        train_losses.append(train_loss / len(train_loader))\n",
    "        val_losses.append(val_loss / len(val_loader))\n",
    "        train_accuracies.append(train_correct / len(train_loader.dataset))\n",
    "        val_accuracies.append(val_correct / len(val_loader.dataset))\n",
    "\n",
    "        print(f'Epoch {epoch+1}/{num_epochs}, Train Loss: {train_losses[-1]}, Val Loss: {val_losses[-1]}, Train Acc: {train_accuracies[-1]}, Val Acc: {val_accuracies[-1]}')\n",
    "\n",
    "    return train_losses, val_losses, train_accuracies, val_accuracies\n"
   ]
  },
  {
   "cell_type": "code",
   "execution_count": 12,
   "metadata": {},
   "outputs": [
    {
     "name": "stderr",
     "output_type": "stream",
     "text": [
      "Epoch 1/50, Training...: 100%|██████████| 53/53 [00:27<00:00,  1.93it/s]\n",
      "Epoch 1/50, Validation...: 100%|██████████| 14/14 [00:02<00:00,  6.59it/s]\n"
     ]
    },
    {
     "name": "stdout",
     "output_type": "stream",
     "text": [
      "Epoch 1/50, Train Loss: 0.7074530776941551, Val Loss: 1.2082936806338174, Train Acc: 0.7434115262090936, Val Acc: 0.6828703703703703\n"
     ]
    },
    {
     "name": "stderr",
     "output_type": "stream",
     "text": [
      "Epoch 2/50, Training...: 100%|██████████| 53/53 [00:26<00:00,  2.03it/s]\n",
      "Epoch 2/50, Validation...: 100%|██████████| 14/14 [00:02<00:00,  6.62it/s]\n"
     ]
    },
    {
     "name": "stdout",
     "output_type": "stream",
     "text": [
      "Epoch 2/50, Train Loss: 0.4923989935865942, Val Loss: 0.6939821434872491, Train Acc: 0.8108890819577179, Val Acc: 0.7592592592592593\n"
     ]
    },
    {
     "name": "stderr",
     "output_type": "stream",
     "text": [
      "Epoch 3/50, Training...: 100%|██████████| 53/53 [00:26<00:00,  2.03it/s]\n",
      "Epoch 3/50, Validation...: 100%|██████████| 14/14 [00:02<00:00,  6.52it/s]\n"
     ]
    },
    {
     "name": "stdout",
     "output_type": "stream",
     "text": [
      "Epoch 3/50, Train Loss: 0.41592939085555525, Val Loss: 0.666587987116405, Train Acc: 0.8363741673906748, Val Acc: 0.8125\n"
     ]
    },
    {
     "name": "stderr",
     "output_type": "stream",
     "text": [
      "Epoch 4/50, Training...: 100%|██████████| 53/53 [00:26<00:00,  2.02it/s]\n",
      "Epoch 4/50, Validation...: 100%|██████████| 14/14 [00:02<00:00,  6.17it/s]\n"
     ]
    },
    {
     "name": "stdout",
     "output_type": "stream",
     "text": [
      "Epoch 4/50, Train Loss: 0.3850428563243938, Val Loss: 0.3402567729353905, Train Acc: 0.8439038517231393, Val Acc: 0.8726851851851852\n"
     ]
    },
    {
     "name": "stderr",
     "output_type": "stream",
     "text": [
      "Epoch 5/50, Training...: 100%|██████████| 53/53 [00:26<00:00,  2.02it/s]\n",
      "Epoch 5/50, Validation...: 100%|██████████| 14/14 [00:02<00:00,  6.61it/s]\n"
     ]
    },
    {
     "name": "stdout",
     "output_type": "stream",
     "text": [
      "Epoch 5/50, Train Loss: 0.32516512837050093, Val Loss: 0.8288279346057347, Train Acc: 0.8673617144512018, Val Acc: 0.7384259259259259\n"
     ]
    },
    {
     "name": "stderr",
     "output_type": "stream",
     "text": [
      "Epoch 6/50, Training...: 100%|██████████| 53/53 [00:26<00:00,  2.03it/s]\n",
      "Epoch 6/50, Validation...: 100%|██████████| 14/14 [00:02<00:00,  6.69it/s]\n"
     ]
    },
    {
     "name": "stdout",
     "output_type": "stream",
     "text": [
      "Epoch 6/50, Train Loss: 0.28981359752843966, Val Loss: 0.3720471199069704, Train Acc: 0.878945844193455, Val Acc: 0.8668981481481481\n"
     ]
    },
    {
     "name": "stderr",
     "output_type": "stream",
     "text": [
      "Epoch 7/50, Training...: 100%|██████████| 53/53 [00:26<00:00,  2.03it/s]\n",
      "Epoch 7/50, Validation...: 100%|██████████| 14/14 [00:02<00:00,  6.49it/s]\n"
     ]
    },
    {
     "name": "stdout",
     "output_type": "stream",
     "text": [
      "Epoch 7/50, Train Loss: 0.2895646159941295, Val Loss: 0.3643174607838903, Train Acc: 0.8806834636547929, Val Acc: 0.8692129629629629\n"
     ]
    },
    {
     "name": "stderr",
     "output_type": "stream",
     "text": [
      "Epoch 8/50, Training...: 100%|██████████| 53/53 [00:26<00:00,  2.01it/s]\n",
      "Epoch 8/50, Validation...: 100%|██████████| 14/14 [00:02<00:00,  6.47it/s]\n"
     ]
    },
    {
     "name": "stdout",
     "output_type": "stream",
     "text": [
      "Epoch 8/50, Train Loss: 0.26568678091719466, Val Loss: 0.511524423956871, Train Acc: 0.8899507674485955, Val Acc: 0.8495370370370371\n"
     ]
    },
    {
     "name": "stderr",
     "output_type": "stream",
     "text": [
      "Epoch 9/50, Training...: 100%|██████████| 53/53 [00:26<00:00,  2.01it/s]\n",
      "Epoch 9/50, Validation...: 100%|██████████| 14/14 [00:02<00:00,  6.47it/s]\n"
     ]
    },
    {
     "name": "stdout",
     "output_type": "stream",
     "text": [
      "Epoch 9/50, Train Loss: 0.23379887331206844, Val Loss: 0.36214675647871836, Train Acc: 0.9015348971908486, Val Acc: 0.8807870370370371\n"
     ]
    },
    {
     "name": "stderr",
     "output_type": "stream",
     "text": [
      "Epoch 10/50, Training...: 100%|██████████| 53/53 [00:26<00:00,  2.01it/s]\n",
      "Epoch 10/50, Validation...: 100%|██████████| 14/14 [00:02<00:00,  6.47it/s]\n"
     ]
    },
    {
     "name": "stdout",
     "output_type": "stream",
     "text": [
      "Epoch 10/50, Train Loss: 0.2606932059773859, Val Loss: 0.49423503237111227, Train Acc: 0.8905299739357081, Val Acc: 0.8460648148148148\n"
     ]
    },
    {
     "name": "stderr",
     "output_type": "stream",
     "text": [
      "Epoch 11/50, Training...: 100%|██████████| 53/53 [00:26<00:00,  2.01it/s]\n",
      "Epoch 11/50, Validation...: 100%|██████████| 14/14 [00:02<00:00,  6.50it/s]\n"
     ]
    },
    {
     "name": "stdout",
     "output_type": "stream",
     "text": [
      "Epoch 11/50, Train Loss: 0.21326223599179736, Val Loss: 0.3250029262687479, Train Acc: 0.9084853750362004, Val Acc: 0.8773148148148148\n"
     ]
    },
    {
     "name": "stderr",
     "output_type": "stream",
     "text": [
      "Epoch 12/50, Training...: 100%|██████████| 53/53 [00:26<00:00,  2.00it/s]\n",
      "Epoch 12/50, Validation...: 100%|██████████| 14/14 [00:02<00:00,  6.47it/s]\n"
     ]
    },
    {
     "name": "stdout",
     "output_type": "stream",
     "text": [
      "Epoch 12/50, Train Loss: 0.2029188244410281, Val Loss: 0.5618724524974823, Train Acc: 0.915146249637996, Val Acc: 0.8553240740740741\n"
     ]
    },
    {
     "name": "stderr",
     "output_type": "stream",
     "text": [
      "Epoch 13/50, Training...: 100%|██████████| 53/53 [00:26<00:00,  2.00it/s]\n",
      "Epoch 13/50, Validation...: 100%|██████████| 14/14 [00:02<00:00,  6.47it/s]\n"
     ]
    },
    {
     "name": "stdout",
     "output_type": "stream",
     "text": [
      "Epoch 13/50, Train Loss: 0.21286168061899688, Val Loss: 0.49122099791254314, Train Acc: 0.9081957717926441, Val Acc: 0.8449074074074074\n"
     ]
    },
    {
     "name": "stderr",
     "output_type": "stream",
     "text": [
      "Epoch 14/50, Training...: 100%|██████████| 53/53 [00:26<00:00,  2.01it/s]\n",
      "Epoch 14/50, Validation...: 100%|██████████| 14/14 [00:02<00:00,  6.45it/s]\n"
     ]
    },
    {
     "name": "stdout",
     "output_type": "stream",
     "text": [
      "Epoch 14/50, Train Loss: 0.1812204787472509, Val Loss: 0.41617480559008463, Train Acc: 0.9180422820735592, Val Acc: 0.8587962962962963\n"
     ]
    },
    {
     "name": "stderr",
     "output_type": "stream",
     "text": [
      "Epoch 15/50, Training...: 100%|██████████| 53/53 [00:26<00:00,  2.00it/s]\n",
      "Epoch 15/50, Validation...: 100%|██████████| 14/14 [00:02<00:00,  6.40it/s]\n"
     ]
    },
    {
     "name": "stdout",
     "output_type": "stream",
     "text": [
      "Epoch 15/50, Train Loss: 0.19273059955745372, Val Loss: 0.44213152144636425, Train Acc: 0.9186214885606718, Val Acc: 0.8645833333333334\n"
     ]
    },
    {
     "name": "stderr",
     "output_type": "stream",
     "text": [
      "Epoch 16/50, Training...: 100%|██████████| 53/53 [00:26<00:00,  2.01it/s]\n",
      "Epoch 16/50, Validation...: 100%|██████████| 14/14 [00:02<00:00,  6.19it/s]\n"
     ]
    },
    {
     "name": "stdout",
     "output_type": "stream",
     "text": [
      "Epoch 16/50, Train Loss: 0.17996693557163454, Val Loss: 0.3284017454300608, Train Acc: 0.9218071242397915, Val Acc: 0.8946759259259259\n"
     ]
    },
    {
     "name": "stderr",
     "output_type": "stream",
     "text": [
      "Epoch 17/50, Training...: 100%|██████████| 53/53 [00:26<00:00,  2.00it/s]\n",
      "Epoch 17/50, Validation...: 100%|██████████| 14/14 [00:02<00:00,  5.73it/s]\n"
     ]
    },
    {
     "name": "stdout",
     "output_type": "stream",
     "text": [
      "Epoch 17/50, Train Loss: 0.1455906648540272, Val Loss: 0.42372808179685045, Train Acc: 0.931074428033594, Val Acc: 0.8622685185185185\n"
     ]
    },
    {
     "name": "stderr",
     "output_type": "stream",
     "text": [
      "Epoch 18/50, Training...: 100%|██████████| 53/53 [00:26<00:00,  2.00it/s]\n",
      "Epoch 18/50, Validation...: 100%|██████████| 14/14 [00:02<00:00,  6.27it/s]\n"
     ]
    },
    {
     "name": "stdout",
     "output_type": "stream",
     "text": [
      "Epoch 18/50, Train Loss: 0.1350539079252279, Val Loss: 0.41193873807787895, Train Acc: 0.9371560961482769, Val Acc: 0.8784722222222222\n"
     ]
    },
    {
     "name": "stderr",
     "output_type": "stream",
     "text": [
      "Epoch 19/50, Training...: 100%|██████████| 53/53 [00:26<00:00,  2.01it/s]\n",
      "Epoch 19/50, Validation...: 100%|██████████| 14/14 [00:02<00:00,  6.65it/s]\n"
     ]
    },
    {
     "name": "stdout",
     "output_type": "stream",
     "text": [
      "Epoch 19/50, Train Loss: 0.11678341438747802, Val Loss: 0.4524396540863173, Train Acc: 0.9432377642629598, Val Acc: 0.8657407407407407\n"
     ]
    },
    {
     "name": "stderr",
     "output_type": "stream",
     "text": [
      "Epoch 20/50, Training...: 100%|██████████| 53/53 [00:26<00:00,  2.01it/s]\n",
      "Epoch 20/50, Validation...: 100%|██████████| 14/14 [00:02<00:00,  6.50it/s]\n"
     ]
    },
    {
     "name": "stdout",
     "output_type": "stream",
     "text": [
      "Epoch 20/50, Train Loss: 0.14129797608222602, Val Loss: 0.33989720046520233, Train Acc: 0.9336808572256009, Val Acc: 0.8946759259259259\n"
     ]
    },
    {
     "name": "stderr",
     "output_type": "stream",
     "text": [
      "Epoch 21/50, Training...: 100%|██████████| 53/53 [00:26<00:00,  2.01it/s]\n",
      "Epoch 21/50, Validation...: 100%|██████████| 14/14 [00:02<00:00,  6.54it/s]\n"
     ]
    },
    {
     "name": "stdout",
     "output_type": "stream",
     "text": [
      "Epoch 21/50, Train Loss: 0.11304365948967214, Val Loss: 0.2867398794208254, Train Acc: 0.9409209383145091, Val Acc: 0.9097222222222222\n"
     ]
    },
    {
     "name": "stderr",
     "output_type": "stream",
     "text": [
      "Epoch 22/50, Training...: 100%|██████████| 53/53 [00:26<00:00,  2.01it/s]\n",
      "Epoch 22/50, Validation...: 100%|██████████| 14/14 [00:02<00:00,  6.55it/s]\n"
     ]
    },
    {
     "name": "stdout",
     "output_type": "stream",
     "text": [
      "Epoch 22/50, Train Loss: 0.10729504418822955, Val Loss: 0.46345083841255735, Train Acc: 0.9455545902114104, Val Acc: 0.8518518518518519\n"
     ]
    },
    {
     "name": "stderr",
     "output_type": "stream",
     "text": [
      "Epoch 23/50, Training...: 100%|██████████| 53/53 [00:26<00:00,  2.01it/s]\n",
      "Epoch 23/50, Validation...: 100%|██████████| 14/14 [00:02<00:00,  6.54it/s]\n"
     ]
    },
    {
     "name": "stdout",
     "output_type": "stream",
     "text": [
      "Epoch 23/50, Train Loss: 0.10452125319894755, Val Loss: 0.3744427572403635, Train Acc: 0.945264986967854, Val Acc: 0.8831018518518519\n"
     ]
    },
    {
     "name": "stderr",
     "output_type": "stream",
     "text": [
      "Epoch 24/50, Training...: 100%|██████████| 53/53 [00:26<00:00,  2.01it/s]\n",
      "Epoch 24/50, Validation...: 100%|██████████| 14/14 [00:02<00:00,  6.54it/s]\n"
     ]
    },
    {
     "name": "stdout",
     "output_type": "stream",
     "text": [
      "Epoch 24/50, Train Loss: 0.10478692174941864, Val Loss: 0.5443471946886608, Train Acc: 0.9455545902114104, Val Acc: 0.8564814814814815\n"
     ]
    },
    {
     "name": "stderr",
     "output_type": "stream",
     "text": [
      "Epoch 25/50, Training...: 100%|██████████| 53/53 [00:26<00:00,  2.01it/s]\n",
      "Epoch 25/50, Validation...: 100%|██████████| 14/14 [00:02<00:00,  6.51it/s]\n"
     ]
    },
    {
     "name": "stdout",
     "output_type": "stream",
     "text": [
      "Epoch 25/50, Train Loss: 0.08464615440593576, Val Loss: 0.34339430475873606, Train Acc: 0.9533738777874312, Val Acc: 0.9085648148148148\n"
     ]
    },
    {
     "name": "stderr",
     "output_type": "stream",
     "text": [
      "Epoch 26/50, Training...: 100%|██████████| 53/53 [00:26<00:00,  2.01it/s]\n",
      "Epoch 26/50, Validation...: 100%|██████████| 14/14 [00:02<00:00,  6.51it/s]\n"
     ]
    },
    {
     "name": "stdout",
     "output_type": "stream",
     "text": [
      "Epoch 26/50, Train Loss: 0.1041994100823155, Val Loss: 0.39691009159599033, Train Acc: 0.9472922096727483, Val Acc: 0.8784722222222222\n"
     ]
    },
    {
     "name": "stderr",
     "output_type": "stream",
     "text": [
      "Epoch 27/50, Training...: 100%|██████████| 53/53 [00:26<00:00,  2.01it/s]\n",
      "Epoch 27/50, Validation...: 100%|██████████| 14/14 [00:02<00:00,  6.52it/s]\n"
     ]
    },
    {
     "name": "stdout",
     "output_type": "stream",
     "text": [
      "Epoch 27/50, Train Loss: 0.113047726223913, Val Loss: 0.35647607488291605, Train Acc: 0.9458441934549667, Val Acc: 0.8958333333333334\n"
     ]
    },
    {
     "name": "stderr",
     "output_type": "stream",
     "text": [
      "Epoch 28/50, Training...: 100%|██████████| 53/53 [00:26<00:00,  2.01it/s]\n",
      "Epoch 28/50, Validation...: 100%|██████████| 14/14 [00:02<00:00,  6.55it/s]\n"
     ]
    },
    {
     "name": "stdout",
     "output_type": "stream",
     "text": [
      "Epoch 28/50, Train Loss: 0.09795327470549997, Val Loss: 0.3770482859441212, Train Acc: 0.947871416159861, Val Acc: 0.8912037037037037\n"
     ]
    },
    {
     "name": "stderr",
     "output_type": "stream",
     "text": [
      "Epoch 29/50, Training...: 100%|██████████| 53/53 [00:26<00:00,  2.01it/s]\n",
      "Epoch 29/50, Validation...: 100%|██████████| 14/14 [00:02<00:00,  6.58it/s]\n"
     ]
    },
    {
     "name": "stdout",
     "output_type": "stream",
     "text": [
      "Epoch 29/50, Train Loss: 0.09251531673911607, Val Loss: 0.4579349160194397, Train Acc: 0.950477845351868, Val Acc: 0.8831018518518519\n"
     ]
    },
    {
     "name": "stderr",
     "output_type": "stream",
     "text": [
      "Epoch 30/50, Training...: 100%|██████████| 53/53 [00:26<00:00,  2.01it/s]\n",
      "Epoch 30/50, Validation...: 100%|██████████| 14/14 [00:02<00:00,  6.52it/s]\n"
     ]
    },
    {
     "name": "stdout",
     "output_type": "stream",
     "text": [
      "Epoch 30/50, Train Loss: 0.09379460848867893, Val Loss: 0.39844432579619543, Train Acc: 0.952215464813206, Val Acc: 0.8958333333333334\n"
     ]
    },
    {
     "name": "stderr",
     "output_type": "stream",
     "text": [
      "Epoch 31/50, Training...: 100%|██████████| 53/53 [00:26<00:00,  2.01it/s]\n",
      "Epoch 31/50, Validation...: 100%|██████████| 14/14 [00:02<00:00,  6.56it/s]\n"
     ]
    },
    {
     "name": "stdout",
     "output_type": "stream",
     "text": [
      "Epoch 31/50, Train Loss: 0.09129056548875458, Val Loss: 0.43381424700575216, Train Acc: 0.950477845351868, Val Acc: 0.8726851851851852\n"
     ]
    },
    {
     "name": "stderr",
     "output_type": "stream",
     "text": [
      "Epoch 32/50, Training...: 100%|██████████| 53/53 [00:26<00:00,  2.01it/s]\n",
      "Epoch 32/50, Validation...: 100%|██████████| 14/14 [00:02<00:00,  6.54it/s]\n"
     ]
    },
    {
     "name": "stdout",
     "output_type": "stream",
     "text": [
      "Epoch 32/50, Train Loss: 0.10425466712001923, Val Loss: 0.33604202046990395, Train Acc: 0.947871416159861, Val Acc: 0.8958333333333334\n"
     ]
    },
    {
     "name": "stderr",
     "output_type": "stream",
     "text": [
      "Epoch 33/50, Training...: 100%|██████████| 53/53 [00:26<00:00,  2.01it/s]\n",
      "Epoch 33/50, Validation...: 100%|██████████| 14/14 [00:02<00:00,  6.52it/s]\n"
     ]
    },
    {
     "name": "stdout",
     "output_type": "stream",
     "text": [
      "Epoch 33/50, Train Loss: 0.11288454974035048, Val Loss: 0.2822814541203635, Train Acc: 0.9498986388647553, Val Acc: 0.8981481481481481\n"
     ]
    },
    {
     "name": "stderr",
     "output_type": "stream",
     "text": [
      "Epoch 34/50, Training...: 100%|██████████| 53/53 [00:26<00:00,  2.01it/s]\n",
      "Epoch 34/50, Validation...: 100%|██████████| 14/14 [00:02<00:00,  6.55it/s]\n"
     ]
    },
    {
     "name": "stdout",
     "output_type": "stream",
     "text": [
      "Epoch 34/50, Train Loss: 0.06885883263048698, Val Loss: 0.32133382133075167, Train Acc: 0.9614827686070084, Val Acc: 0.9085648148148148\n"
     ]
    },
    {
     "name": "stderr",
     "output_type": "stream",
     "text": [
      "Epoch 35/50, Training...: 100%|██████████| 53/53 [00:26<00:00,  2.01it/s]\n",
      "Epoch 35/50, Validation...: 100%|██████████| 14/14 [00:02<00:00,  6.58it/s]\n"
     ]
    },
    {
     "name": "stdout",
     "output_type": "stream",
     "text": [
      "Epoch 35/50, Train Loss: 0.060850447922382714, Val Loss: 0.35875351460916655, Train Acc: 0.96293078482479, Val Acc: 0.9085648148148148\n"
     ]
    },
    {
     "name": "stderr",
     "output_type": "stream",
     "text": [
      "Epoch 36/50, Training...: 100%|██████████| 53/53 [00:26<00:00,  2.01it/s]\n",
      "Epoch 36/50, Validation...: 100%|██████████| 14/14 [00:02<00:00,  6.58it/s]\n"
     ]
    },
    {
     "name": "stdout",
     "output_type": "stream",
     "text": [
      "Epoch 36/50, Train Loss: 0.08566871591193496, Val Loss: 0.40357606006520136, Train Acc: 0.9545322907616566, Val Acc: 0.8935185185185185\n"
     ]
    },
    {
     "name": "stderr",
     "output_type": "stream",
     "text": [
      "Epoch 37/50, Training...: 100%|██████████| 53/53 [00:26<00:00,  2.01it/s]\n",
      "Epoch 37/50, Validation...: 100%|██████████| 14/14 [00:02<00:00,  6.54it/s]\n"
     ]
    },
    {
     "name": "stdout",
     "output_type": "stream",
     "text": [
      "Epoch 37/50, Train Loss: 0.06238175352227013, Val Loss: 0.4142839339162622, Train Acc: 0.9632203880683463, Val Acc: 0.8935185185185185\n"
     ]
    },
    {
     "name": "stderr",
     "output_type": "stream",
     "text": [
      "Epoch 38/50, Training...: 100%|██████████| 53/53 [00:26<00:00,  2.01it/s]\n",
      "Epoch 38/50, Validation...: 100%|██████████| 14/14 [00:02<00:00,  6.53it/s]\n"
     ]
    },
    {
     "name": "stdout",
     "output_type": "stream",
     "text": [
      "Epoch 38/50, Train Loss: 0.06279126057875747, Val Loss: 0.6829437421900886, Train Acc: 0.9617723718505647, Val Acc: 0.8425925925925926\n"
     ]
    },
    {
     "name": "stderr",
     "output_type": "stream",
     "text": [
      "Epoch 39/50, Training...: 100%|██████████| 53/53 [00:26<00:00,  2.01it/s]\n",
      "Epoch 39/50, Validation...: 100%|██████████| 14/14 [00:02<00:00,  6.56it/s]\n"
     ]
    },
    {
     "name": "stdout",
     "output_type": "stream",
     "text": [
      "Epoch 39/50, Train Loss: 0.09700604898960523, Val Loss: 0.5404581491436277, Train Acc: 0.9498986388647553, Val Acc: 0.8692129629629629\n"
     ]
    },
    {
     "name": "stderr",
     "output_type": "stream",
     "text": [
      "Epoch 40/50, Training...: 100%|██████████| 53/53 [00:26<00:00,  2.02it/s]\n",
      "Epoch 40/50, Validation...: 100%|██████████| 14/14 [00:02<00:00,  6.58it/s]\n"
     ]
    },
    {
     "name": "stdout",
     "output_type": "stream",
     "text": [
      "Epoch 40/50, Train Loss: 0.07386345140425102, Val Loss: 0.483079517526286, Train Acc: 0.9556907037358818, Val Acc: 0.8842592592592593\n"
     ]
    },
    {
     "name": "stderr",
     "output_type": "stream",
     "text": [
      "Epoch 41/50, Training...: 100%|██████████| 53/53 [00:26<00:00,  2.01it/s]\n",
      "Epoch 41/50, Validation...: 100%|██████████| 14/14 [00:02<00:00,  6.59it/s]\n"
     ]
    },
    {
     "name": "stdout",
     "output_type": "stream",
     "text": [
      "Epoch 41/50, Train Loss: 0.0680173594539739, Val Loss: 0.3639371416398457, Train Acc: 0.9611931653634521, Val Acc: 0.8993055555555556\n"
     ]
    },
    {
     "name": "stderr",
     "output_type": "stream",
     "text": [
      "Epoch 42/50, Training...: 100%|██████████| 53/53 [00:26<00:00,  2.01it/s]\n",
      "Epoch 42/50, Validation...: 100%|██████████| 14/14 [00:02<00:00,  6.57it/s]\n"
     ]
    },
    {
     "name": "stdout",
     "output_type": "stream",
     "text": [
      "Epoch 42/50, Train Loss: 0.05478397626781239, Val Loss: 0.37987389309065683, Train Acc: 0.9632203880683463, Val Acc: 0.8993055555555556\n"
     ]
    },
    {
     "name": "stderr",
     "output_type": "stream",
     "text": [
      "Epoch 43/50, Training...: 100%|██████████| 53/53 [00:26<00:00,  2.01it/s]\n",
      "Epoch 43/50, Validation...: 100%|██████████| 14/14 [00:02<00:00,  6.54it/s]\n"
     ]
    },
    {
     "name": "stdout",
     "output_type": "stream",
     "text": [
      "Epoch 43/50, Train Loss: 0.0510949416982256, Val Loss: 0.3671021871268749, Train Acc: 0.9643788010425717, Val Acc: 0.9143518518518519\n"
     ]
    },
    {
     "name": "stderr",
     "output_type": "stream",
     "text": [
      "Epoch 44/50, Training...: 100%|██████████| 53/53 [00:26<00:00,  2.01it/s]\n",
      "Epoch 44/50, Validation...: 100%|██████████| 14/14 [00:02<00:00,  6.53it/s]\n"
     ]
    },
    {
     "name": "stdout",
     "output_type": "stream",
     "text": [
      "Epoch 44/50, Train Loss: 0.04240164422992406, Val Loss: 0.32698019966483116, Train Acc: 0.9687228496959166, Val Acc: 0.9155092592592593\n"
     ]
    },
    {
     "name": "stderr",
     "output_type": "stream",
     "text": [
      "Epoch 45/50, Training...: 100%|██████████| 53/53 [00:26<00:00,  2.01it/s]\n",
      "Epoch 45/50, Validation...: 100%|██████████| 14/14 [00:02<00:00,  6.53it/s]\n"
     ]
    },
    {
     "name": "stdout",
     "output_type": "stream",
     "text": [
      "Epoch 45/50, Train Loss: 0.04703761956144897, Val Loss: 0.4495197172675814, Train Acc: 0.968143643208804, Val Acc: 0.8923611111111112\n"
     ]
    },
    {
     "name": "stderr",
     "output_type": "stream",
     "text": [
      "Epoch 46/50, Training...: 100%|██████████| 53/53 [00:26<00:00,  2.01it/s]\n",
      "Epoch 46/50, Validation...: 100%|██████████| 14/14 [00:02<00:00,  6.53it/s]\n"
     ]
    },
    {
     "name": "stdout",
     "output_type": "stream",
     "text": [
      "Epoch 46/50, Train Loss: 0.0803371998569313, Val Loss: 0.4673378723008292, Train Acc: 0.9536634810309875, Val Acc: 0.8738425925925926\n"
     ]
    },
    {
     "name": "stderr",
     "output_type": "stream",
     "text": [
      "Epoch 47/50, Training...: 100%|██████████| 53/53 [00:26<00:00,  2.01it/s]\n",
      "Epoch 47/50, Validation...: 100%|██████████| 14/14 [00:02<00:00,  6.58it/s]\n"
     ]
    },
    {
     "name": "stdout",
     "output_type": "stream",
     "text": [
      "Epoch 47/50, Train Loss: 0.06782384893312207, Val Loss: 0.44521951356104444, Train Acc: 0.9603243556327831, Val Acc: 0.9039351851851852\n"
     ]
    },
    {
     "name": "stderr",
     "output_type": "stream",
     "text": [
      "Epoch 48/50, Training...: 100%|██████████| 53/53 [00:26<00:00,  2.01it/s]\n",
      "Epoch 48/50, Validation...: 100%|██████████| 14/14 [00:02<00:00,  6.56it/s]\n"
     ]
    },
    {
     "name": "stdout",
     "output_type": "stream",
     "text": [
      "Epoch 48/50, Train Loss: 0.056749657661882495, Val Loss: 0.3503986671566963, Train Acc: 0.9640891977990154, Val Acc: 0.9039351851851852\n"
     ]
    },
    {
     "name": "stderr",
     "output_type": "stream",
     "text": [
      "Epoch 49/50, Training...: 100%|██████████| 53/53 [00:26<00:00,  2.01it/s]\n",
      "Epoch 49/50, Validation...: 100%|██████████| 14/14 [00:02<00:00,  6.54it/s]\n"
     ]
    },
    {
     "name": "stdout",
     "output_type": "stream",
     "text": [
      "Epoch 49/50, Train Loss: 0.032572298767572304, Val Loss: 0.36636962422302793, Train Acc: 0.9716188821314798, Val Acc: 0.9085648148148148\n"
     ]
    },
    {
     "name": "stderr",
     "output_type": "stream",
     "text": [
      "Epoch 50/50, Training...: 100%|██████████| 53/53 [00:26<00:00,  2.02it/s]\n",
      "Epoch 50/50, Validation...: 100%|██████████| 14/14 [00:02<00:00,  6.56it/s]"
     ]
    },
    {
     "name": "stdout",
     "output_type": "stream",
     "text": [
      "Epoch 50/50, Train Loss: 0.0348314787261188, Val Loss: 0.5237024096505982, Train Acc: 0.9713292788879235, Val Acc: 0.8854166666666666\n"
     ]
    },
    {
     "name": "stderr",
     "output_type": "stream",
     "text": [
      "\n"
     ]
    }
   ],
   "source": [
    "train_losses, val_losses, train_accuracies, val_accuracies = train_and_evaluate_model(model, train_loader, val_loader, criterion, optimizer)\n"
   ]
  },
  {
   "cell_type": "code",
   "execution_count": 13,
   "metadata": {},
   "outputs": [
    {
     "data": {
      "image/png": "[encoded data removed]",
      "text/plain": [
       "<Figure size 1200x500 with 2 Axes>"
      ]
     },
     "metadata": {},
     "output_type": "display_data"
    }
   ],
   "source": [
    "# グラフを保存するディレクトリを作成\n",
    "output_dir = '../results'\n",
    "os.makedirs(output_dir, exist_ok=True)\n",
    "\n",
    "# タイムスタンプを生成\n",
    "timestamp = datetime.now().strftime('%Y-%m-%d_%H-%M-%S')\n",
    "\n",
    "\n",
    "# LossとAccuracyのデータをCSVファイルに保存\n",
    "csv_filename = os.path.join(output_dir, f'{model_name}_{timestamp}.csv')\n",
    "with open(csv_filename, mode='w', newline='') as file:\n",
    "    writer = csv.writer(file)\n",
    "    writer.writerow(['Epoch', 'Training Loss', 'Validation Loss', 'Training Accuracy', 'Validation Accuracy'])\n",
    "    \n",
    "    for epoch in range(len(train_losses)):\n",
    "        writer.writerow([epoch+1, train_losses[epoch], val_losses[epoch], train_accuracies[epoch], val_accuracies[epoch]])\n",
    "\n",
    "\n",
    "# Lossのグラフを保存\n",
    "plt.figure(figsize=(12, 5))\n",
    "plt.subplot(1, 2, 1)\n",
    "plt.plot(train_losses, label='Training Loss')\n",
    "plt.plot(val_losses, label='Validation Loss')\n",
    "plt.title(f'Losses')\n",
    "plt.xlabel('Epochs')\n",
    "plt.ylabel('Loss')\n",
    "plt.legend()\n",
    "\n",
    "# Accuracyのグラフを保存\n",
    "plt.subplot(1, 2, 2)\n",
    "plt.plot(train_accuracies, label='Training Accuracy')\n",
    "plt.plot(val_accuracies, label='Validation Accuracy')\n",
    "plt.title(f'Accuracy')\n",
    "plt.xlabel('Epochs')\n",
    "plt.ylabel('Accuracy')\n",
    "plt.legend()\n",
    "\n",
    "# 画像を保存\n",
    "plt.savefig(os.path.join(output_dir, f'{model_name}_{timestamp}.png'))\n",
    "\n",
    "# 画像を表示\n",
    "plt.show()\n"
   ]
  }
 ],
 "metadata": {
  "kernelspec": {
   "display_name": "Python 3 (ipykernel)",
   "language": "python",
   "name": "python3"
  },
  "language_info": {
   "codemirror_mode": {
    "name": "ipython",
    "version": 3
   },
   "file_extension": ".py",
   "mimetype": "text/x-python",
   "name": "python",
   "nbconvert_exporter": "python",
   "pygments_lexer": "ipython3",
   "version": "3.10.13"
  }
 },
 "nbformat": 4,
 "nbformat_minor": 2
}
